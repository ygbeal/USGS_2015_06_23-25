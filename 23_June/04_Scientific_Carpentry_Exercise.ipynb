{
 "metadata": {
  "name": "",
  "signature": "sha256:18a9ff4c4246a20425ea74ead63acb38b0d893a3ca0a265edb8e7de8d6b304e1"
 },
 "nbformat": 3,
 "nbformat_minor": 0,
 "worksheets": [
  {
   "cells": [
    {
     "cell_type": "heading",
     "level": 1,
     "metadata": {},
     "source": [
      "Welcome to Git!  Everything you need to know and more!"
     ]
    },
    {
     "cell_type": "markdown",
     "metadata": {},
     "source": [
      "Let's get started with git.  Today we will do the following:\n",
      "- Initiate a repository on our local computer\n",
      "- Create a file and add it to our repository\n",
      "- Make changes and upload those to the repository\n",
      "- Clone an existing repository\n",
      "- Update changes to that repository and push remotely"
     ]
    },
    {
     "cell_type": "markdown",
     "metadata": {},
     "source": [
      "Create a new directory on your computer that you will use for the purposes of this tutorial."
     ]
    },
    {
     "cell_type": "markdown",
     "metadata": {},
     "source": [
      "Side note:  The \"!\" in front of some of the commands allows us to use bash in the ipython notebook.  If you type these commands in on the command line you don't need to use the \"!\" symbol."
     ]
    },
    {
     "cell_type": "markdown",
     "metadata": {},
     "source": [
      "If this is your first time ever running git, please do the following:"
     ]
    },
    {
     "cell_type": "code",
     "collapsed": false,
     "input": [
      "%%!\n",
      "git config --global user.name 'knuths'\n",
      "git config --global user.email shelley.knuth@colorado.edu"
     ],
     "language": "python",
     "metadata": {},
     "outputs": [
      {
       "metadata": {},
       "output_type": "pyout",
       "prompt_number": 1,
       "text": [
        "[]"
       ]
      }
     ],
     "prompt_number": 1
    },
    {
     "cell_type": "code",
     "collapsed": false,
     "input": [
      "import os\n",
      "desktop = os.path.join(os.path.expanduser('~'), 'Desktop')\n",
      "os.chdir(desktop)"
     ],
     "language": "python",
     "metadata": {},
     "outputs": [],
     "prompt_number": 2
    },
    {
     "cell_type": "code",
     "collapsed": false,
     "input": [
      "ls"
     ],
     "language": "python",
     "metadata": {},
     "outputs": [
      {
       "output_type": "stream",
       "stream": "stdout",
       "text": [
        "CIMG4543.JPG         bashkernel.py        usgs_computing.docx\r\n",
        "\u001b[34mImportant Docs\u001b[m\u001b[m/      dept_listing.xlsx\r\n",
        "Walruses.csv         knuth_coi.pdf\r\n"
       ]
      }
     ],
     "prompt_number": 3
    },
    {
     "cell_type": "code",
     "collapsed": false,
     "input": [
      "mkdir knuth_git_tutorial"
     ],
     "language": "python",
     "metadata": {},
     "outputs": [],
     "prompt_number": 5
    },
    {
     "cell_type": "code",
     "collapsed": false,
     "input": [
      "cd knuth_git_tutorial"
     ],
     "language": "python",
     "metadata": {},
     "outputs": [
      {
       "output_type": "stream",
       "stream": "stdout",
       "text": [
        "/Users/knuths/Desktop/knuth_git_tutorial\n"
       ]
      }
     ],
     "prompt_number": 6
    },
    {
     "cell_type": "code",
     "collapsed": false,
     "input": [
      "ls"
     ],
     "language": "python",
     "metadata": {},
     "outputs": [],
     "prompt_number": 7
    },
    {
     "cell_type": "markdown",
     "metadata": {},
     "source": [
      "We have not yet set up a git repository (repo) because we just created this folder.  We can see this with the following:"
     ]
    },
    {
     "cell_type": "code",
     "collapsed": false,
     "input": [
      "!git status"
     ],
     "language": "python",
     "metadata": {},
     "outputs": [
      {
       "output_type": "stream",
       "stream": "stdout",
       "text": [
        "fatal: Not a git repository (or any of the parent directories): .git\r\n"
       ]
      }
     ],
     "prompt_number": 8
    },
    {
     "cell_type": "markdown",
     "metadata": {},
     "source": [
      "\"git status\" is a command that can be used to determine the state of a project in git.  If you do not have a project created, it will tell you that, such as the response above."
     ]
    },
    {
     "cell_type": "markdown",
     "metadata": {},
     "source": [
      "Let's initiate a git repository.  When we do this, an existing directory on our computer becomes a part of git, and git will snapshot the directory and track any changes we make.  Without initializing the directory, git doesn't care about the directory, and if we make changes it will not be able to recover those changes."
     ]
    },
    {
     "cell_type": "code",
     "collapsed": false,
     "input": [
      "!git init"
     ],
     "language": "python",
     "metadata": {},
     "outputs": [
      {
       "output_type": "stream",
       "stream": "stdout",
       "text": [
        "Initialized empty Git repository in /Users/knuths/Desktop/knuth_git_tutorial/.git/\r\n"
       ]
      }
     ],
     "prompt_number": 9
    },
    {
     "cell_type": "code",
     "collapsed": false,
     "input": [
      "!ls -laF"
     ],
     "language": "python",
     "metadata": {},
     "outputs": [
      {
       "output_type": "stream",
       "stream": "stdout",
       "text": [
        "total 0\r\n",
        "drwxr-xr-x   3 knuths  staff  102 Jun 23 10:02 \u001b[34m.\u001b[m\u001b[m/\r\n",
        "drwx------+ 13 knuths  staff  442 Jun 23 10:02 \u001b[34m..\u001b[m\u001b[m/\r\n",
        "drwxr-xr-x  10 knuths  staff  340 Jun 23 10:02 \u001b[34m.git\u001b[m\u001b[m/\r\n"
       ]
      }
     ],
     "prompt_number": 10
    },
    {
     "cell_type": "markdown",
     "metadata": {},
     "source": [
      "We know that this directory has a git repo because we now have a folder .git.  Within this folder keeps all the information about any files we might have.\n",
      "\n",
      "Next, let's create a dummy file."
     ]
    },
    {
     "cell_type": "code",
     "collapsed": false,
     "input": [
      "!touch test.txt"
     ],
     "language": "python",
     "metadata": {},
     "outputs": [],
     "prompt_number": 11
    },
    {
     "cell_type": "code",
     "collapsed": false,
     "input": [
      "!ls -laF"
     ],
     "language": "python",
     "metadata": {},
     "outputs": [
      {
       "output_type": "stream",
       "stream": "stdout",
       "text": [
        "total 0\r\n",
        "drwxr-xr-x   4 knuths  staff  136 Jun 23 10:03 \u001b[34m.\u001b[m\u001b[m/\r\n",
        "drwx------+ 13 knuths  staff  442 Jun 23 10:02 \u001b[34m..\u001b[m\u001b[m/\r\n",
        "drwxr-xr-x  10 knuths  staff  340 Jun 23 10:02 \u001b[34m.git\u001b[m\u001b[m/\r\n",
        "-rw-r--r--   1 knuths  staff    0 Jun 23 10:03 test.txt\r\n"
       ]
      }
     ],
     "prompt_number": 12
    },
    {
     "cell_type": "markdown",
     "metadata": {},
     "source": [
      "Now if we do a git status we will see:"
     ]
    },
    {
     "cell_type": "code",
     "collapsed": false,
     "input": [
      "!git status"
     ],
     "language": "python",
     "metadata": {},
     "outputs": [
      {
       "output_type": "stream",
       "stream": "stdout",
       "text": [
        "On branch master\r\n",
        "\r\n",
        "Initial commit\r\n",
        "\r\n",
        "Untracked files:\r\n",
        "  (use \"git add <file>...\" to include in what will be committed)\r\n",
        "\r\n",
        "\t\u001b[31mtest.txt\u001b[m\r\n",
        "\r\n",
        "nothing added to commit but untracked files present (use \"git add\" to track)\r\n"
       ]
      }
     ],
     "prompt_number": 13
    },
    {
     "cell_type": "markdown",
     "metadata": {},
     "source": [
      "As we said, git status tells us the current state of our project.  From this git status, we have learned that we are on the master branch (more on that later), that we are at our initial commit, meaning we have yet to commit a change to the repo (more on that later), and we have one file, test.txt, in the directory, and this file is untracked. This means that git is not currently monitoring this file.  While git is monitoring this directory, you have to specify which files you want tracked/monitored/snapshotted.  Otherwise, this file doesn't exist in the eyes of git.  So let's track the file. "
     ]
    },
    {
     "cell_type": "markdown",
     "metadata": {},
     "source": [
      "Realistically speaking, you can do this one of two ways.  First, I'm going to teach you the \"proper\" way to do it.  Later, I'm going to teach you the shortcut way to do it.  "
     ]
    },
    {
     "cell_type": "code",
     "collapsed": false,
     "input": [
      "!git add test.txt"
     ],
     "language": "python",
     "metadata": {},
     "outputs": [],
     "prompt_number": 14
    },
    {
     "cell_type": "code",
     "collapsed": false,
     "input": [
      "!git status"
     ],
     "language": "python",
     "metadata": {},
     "outputs": [
      {
       "output_type": "stream",
       "stream": "stdout",
       "text": [
        "On branch master\r\n",
        "\r\n",
        "Initial commit\r\n",
        "\r\n",
        "Changes to be committed:\r\n",
        "  (use \"git rm --cached <file>...\" to unstage)\r\n",
        "\r\n",
        "\t\u001b[32mnew file:   test.txt\u001b[m\r\n",
        "\r\n"
       ]
      }
     ],
     "prompt_number": 15
    },
    {
     "cell_type": "markdown",
     "metadata": {},
     "source": [
      "When we typed \"git add test.txt\" we notice that everything is the same except now, instead of having an \"untracked file\", we have a new file that is staged.  When you \"add\" a file, it is not committed to the git repository.  You can use the staging area to add a series of changes that can then be committed together.  No matter what, you cannot skip the staging step, BUT, as we will see later, you can use a shortcut that makes it seem like you are.  "
     ]
    },
    {
     "cell_type": "markdown",
     "metadata": {},
     "source": [
      "Now it's your turn.  Add the sentence, \"Git rocks!\" to your test.txt file, and then track that change in git."
     ]
    },
    {
     "cell_type": "code",
     "collapsed": false,
     "input": [],
     "language": "python",
     "metadata": {},
     "outputs": [],
     "prompt_number": 15
    },
    {
     "cell_type": "code",
     "collapsed": false,
     "input": [
      "!git status"
     ],
     "language": "python",
     "metadata": {},
     "outputs": [
      {
       "output_type": "stream",
       "stream": "stdout",
       "text": [
        "On branch master\r\n",
        "\r\n",
        "Initial commit\r\n",
        "\r\n",
        "Changes to be committed:\r\n",
        "  (use \"git rm --cached <file>...\" to unstage)\r\n",
        "\r\n",
        "\t\u001b[32mnew file:   test.txt\u001b[m\r\n",
        "\r\n"
       ]
      }
     ],
     "prompt_number": 16
    },
    {
     "cell_type": "markdown",
     "metadata": {},
     "source": [
      "You should be aware that if you have multiple files in your git repo that you want to stage/add/track, you can type \"git add .\" and all the files in that directory will be staged for a commit.  "
     ]
    },
    {
     "cell_type": "markdown",
     "metadata": {},
     "source": [
      "To commit your changes to the git repo, we do the following command:"
     ]
    },
    {
     "cell_type": "code",
     "collapsed": false,
     "input": [
      "!git commit -m \"Initial commit, add test.txt file\""
     ],
     "language": "python",
     "metadata": {},
     "outputs": [
      {
       "output_type": "stream",
       "stream": "stdout",
       "text": [
        "[master (root-commit) 126f93c] Initial commit, add test.txt file\r\n",
        " 1 file changed, 0 insertions(+), 0 deletions(-)\r\n",
        " create mode 100644 test.txt\r\n"
       ]
      }
     ],
     "prompt_number": 17
    },
    {
     "cell_type": "markdown",
     "metadata": {},
     "source": [
      "A commit allows you to record all of your staged content.  You can use these recordings, or snapshots of your work, to compare to other commits or snapshots."
     ]
    },
    {
     "cell_type": "markdown",
     "metadata": {},
     "source": [
      "Now if we do a git status, we see:"
     ]
    },
    {
     "cell_type": "code",
     "collapsed": false,
     "input": [
      "!git status"
     ],
     "language": "python",
     "metadata": {},
     "outputs": [
      {
       "output_type": "stream",
       "stream": "stdout",
       "text": [
        "On branch master\r\n",
        "nothing to commit, working directory clean\r\n"
       ]
      }
     ],
     "prompt_number": 18
    },
    {
     "cell_type": "markdown",
     "metadata": {},
     "source": [
      "We are up to date in our directory, and all our changes have been committed.  \n",
      "\n",
      "Another useful command to use is \"git diff\".  This command allows you to see what is different about the file now from what has been committed.  git status allows you to see this too, but git status only tells you if there is a difference; git diff tells you what that difference is.   "
     ]
    },
    {
     "cell_type": "code",
     "collapsed": false,
     "input": [
      "!git diff"
     ],
     "language": "python",
     "metadata": {},
     "outputs": [],
     "prompt_number": 19
    },
    {
     "cell_type": "markdown",
     "metadata": {},
     "source": [
      "There are no changes.  Let's change our file and add the change."
     ]
    },
    {
     "cell_type": "code",
     "collapsed": false,
     "input": [
      "!echo 'Git really rocks!' >> test.txt"
     ],
     "language": "python",
     "metadata": {},
     "outputs": [],
     "prompt_number": 20
    },
    {
     "cell_type": "code",
     "collapsed": false,
     "input": [
      "!git diff"
     ],
     "language": "python",
     "metadata": {},
     "outputs": [
      {
       "output_type": "stream",
       "stream": "stdout",
       "text": [
        "\u001b[1mdiff --git a/test.txt b/test.txt\u001b[m\r\n",
        "\u001b[1mindex e69de29..9e32a63 100644\u001b[m\r\n",
        "\u001b[1m--- a/test.txt\u001b[m\r\n",
        "\u001b[1m+++ b/test.txt\u001b[m\r\n",
        "\u001b[36m@@ -0,0 +1 @@\u001b[m\r\n",
        "\u001b[32m+\u001b[m\u001b[32mGit really rocks!\u001b[m\r\n"
       ]
      }
     ],
     "prompt_number": 21
    },
    {
     "cell_type": "markdown",
     "metadata": {},
     "source": [
      "Here we can see that \"Git rocks!\" is part of the file, and we've added (+) the line \"Git really rocks!\"\n",
      "\n",
      "Let's do another git status:"
     ]
    },
    {
     "cell_type": "code",
     "collapsed": false,
     "input": [
      "!git status"
     ],
     "language": "python",
     "metadata": {},
     "outputs": [
      {
       "output_type": "stream",
       "stream": "stdout",
       "text": [
        "On branch master\r\n",
        "Changes not staged for commit:\r\n",
        "  (use \"git add <file>...\" to update what will be committed)\r\n",
        "  (use \"git checkout -- <file>...\" to discard changes in working directory)\r\n",
        "\r\n",
        "\t\u001b[31mmodified:   test.txt\u001b[m\r\n",
        "\r\n",
        "no changes added to commit (use \"git add\" and/or \"git commit -a\")\r\n"
       ]
      }
     ],
     "prompt_number": 22
    },
    {
     "cell_type": "markdown",
     "metadata": {},
     "source": [
      "We see that we've modified our file and have not yet added/staged those changes.  Let's do a short cut to add and commit the changes rather than doing it in two steps:"
     ]
    },
    {
     "cell_type": "code",
     "collapsed": false,
     "input": [
      "!git commit -am \"Added a second line to test.txt\""
     ],
     "language": "python",
     "metadata": {},
     "outputs": [
      {
       "output_type": "stream",
       "stream": "stdout",
       "text": [
        "[master 92684b4] Added a second line to test.txt\r\n",
        " 1 file changed, 1 insertion(+)\r\n"
       ]
      }
     ],
     "prompt_number": 23
    },
    {
     "cell_type": "markdown",
     "metadata": {},
     "source": [
      "This allows you to stage any file that was in your last commit and has been modified.  You still have to do the \"git add\" command for new files."
     ]
    },
    {
     "cell_type": "code",
     "collapsed": false,
     "input": [
      "!git status"
     ],
     "language": "python",
     "metadata": {},
     "outputs": [
      {
       "output_type": "stream",
       "stream": "stdout",
       "text": [
        "On branch master\r\n",
        "nothing to commit, working directory clean\r\n"
       ]
      }
     ],
     "prompt_number": 24
    },
    {
     "cell_type": "markdown",
     "metadata": {},
     "source": [
      "There is A LOT more you can do with git, but this will get you started.  "
     ]
    },
    {
     "cell_type": "markdown",
     "metadata": {},
     "source": [
      "Now it's your turn.  Do the following:\n",
      "\n",
      "- Create a file called usgs_tutorial.txt\n",
      "- Create a second file called usgs_tutorial_second.txt\n",
      "- Add a line to each file\n",
      "- Stage and commit the changes to the repo"
     ]
    },
    {
     "cell_type": "markdown",
     "metadata": {},
     "source": [
      "The last thing we will do is get a remote repo.  To do that we'll go back to the PowerPoint."
     ]
    },
    {
     "cell_type": "code",
     "collapsed": false,
     "input": [],
     "language": "python",
     "metadata": {},
     "outputs": []
    }
   ],
   "metadata": {}
  }
 ]
}