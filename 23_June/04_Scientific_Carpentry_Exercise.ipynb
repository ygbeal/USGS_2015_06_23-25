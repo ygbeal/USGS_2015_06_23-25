{
 "cells": [
  {
   "cell_type": "markdown",
   "metadata": {},
   "source": [
    "# Welcome to Git!  Everything you need to know and more!"
   ]
  },
  {
   "cell_type": "markdown",
   "metadata": {},
   "source": [
    "Let's get started with git.  Today we will do the following:\n",
    "- Initiate a repository on our local computer\n",
    "- Create a file and add it to our repository\n",
    "- Make changes and upload those to the repository\n",
    "- Clone an existing repository\n",
    "- Update changes to that repository and push remotely"
   ]
  },
  {
   "cell_type": "markdown",
   "metadata": {},
   "source": [
    "Create a new directory on your computer that you will use for the purposes of this tutorial."
   ]
  },
  {
   "cell_type": "markdown",
   "metadata": {},
   "source": [
    "Side note:  The \"!\" in front of some of the commands allows us to use bash in the ipython notebook.  If you type these commands in on the command line you don't need to use the \"!\" symbol."
   ]
  },
  {
   "cell_type": "markdown",
   "metadata": {},
   "source": [
    "If this is your first time ever running git, please do the following:"
   ]
  },
  {
   "cell_type": "code",
   "execution_count": 2,
   "metadata": {
    "collapsed": false
   },
   "outputs": [
    {
     "data": {
      "text/plain": [
       "[]"
      ]
     },
     "execution_count": 2,
     "metadata": {},
     "output_type": "execute_result"
    }
   ],
   "source": [
    "%%!\n",
    "git config --global user.name 'Your Name'\n",
    "git config --global user.email you@somedomain.com"
   ]
  },
  {
   "cell_type": "code",
   "execution_count": 5,
   "metadata": {
    "collapsed": false
   },
   "outputs": [],
   "source": [
    "import os\n",
    "desktop = os.path.join(os.path.expanduser('~'), 'Desktop')\n",
    "os.chdir(desktop)"
   ]
  },
  {
   "cell_type": "code",
   "execution_count": 6,
   "metadata": {
    "collapsed": false
   },
   "outputs": [],
   "source": [
    "mkdir knuth_git_tutorial"
   ]
  },
  {
   "cell_type": "code",
   "execution_count": 7,
   "metadata": {
    "collapsed": false
   },
   "outputs": [
    {
     "name": "stdout",
     "output_type": "stream",
     "text": [
      " Volume in drive C has no label.\n",
      " Volume Serial Number is 96D2-1284\n",
      "\n",
      " Directory of c:\\Users\\Thomas Hauser\\Desktop\n",
      "\n",
      "06/23/2015  08:56 AM    <DIR>          .\n",
      "06/23/2015  08:56 AM    <DIR>          ..\n",
      "06/23/2015  08:56 AM    <DIR>          knuth_git_tutorial\n",
      "08/03/2014  02:44 PM            61,064 winxpvirtualcdcontrolpanel_21.exe\n",
      "               1 File(s)         61,064 bytes\n",
      "               3 Dir(s)  27,294,965,760 bytes free\n"
     ]
    }
   ],
   "source": [
    "ls"
   ]
  },
  {
   "cell_type": "code",
   "execution_count": 8,
   "metadata": {
    "collapsed": false
   },
   "outputs": [
    {
     "name": "stdout",
     "output_type": "stream",
     "text": [
      "c:\\Users\\Thomas Hauser\\Desktop\\knuth_git_tutorial\n"
     ]
    }
   ],
   "source": [
    "cd knuth_git_tutorial"
   ]
  },
  {
   "cell_type": "code",
   "execution_count": null,
   "metadata": {
    "collapsed": false
   },
   "outputs": [],
   "source": [
    "ls"
   ]
  },
  {
   "cell_type": "markdown",
   "metadata": {},
   "source": [
    "We have not yet set up a git repository (repo) because we just created this folder.  We can see this with the following:"
   ]
  },
  {
   "cell_type": "code",
   "execution_count": 9,
   "metadata": {
    "collapsed": false
   },
   "outputs": [
    {
     "name": "stderr",
     "output_type": "stream",
     "text": [
      "fatal: Not a git repository (or any of the parent directories): .git\n"
     ]
    }
   ],
   "source": [
    "!git status"
   ]
  },
  {
   "cell_type": "markdown",
   "metadata": {},
   "source": [
    "\"git status\" is a command that can be used to determine the state of a project in git.  If you do not have a project created, it will tell you that, such as the response above."
   ]
  },
  {
   "cell_type": "markdown",
   "metadata": {},
   "source": [
    "Let's initiate a git repository.  When we do this, an existing directory on our computer becomes a part of git, and git will snapshot the directory and track any changes we make.  Without initializing the directory, git doesn't care about the directory, and if we make changes it will not be able to recover those changes."
   ]
  },
  {
   "cell_type": "code",
   "execution_count": 10,
   "metadata": {
    "collapsed": false
   },
   "outputs": [
    {
     "name": "stdout",
     "output_type": "stream",
     "text": [
      "Initialized empty Git repository in c:/Users/Thomas Hauser/Desktop/knuth_git_tutorial/.git/\n"
     ]
    }
   ],
   "source": [
    "!git init"
   ]
  },
  {
   "cell_type": "code",
   "execution_count": 11,
   "metadata": {
    "collapsed": false
   },
   "outputs": [
    {
     "name": "stdout",
     "output_type": "stream",
     "text": [
      "total 2\n",
      "drwxr-xr-x    1 Thomas H Administ        0 Jun 23 08:57 ./\n",
      "dr-xr-xr-x    1 Thomas H Administ        0 Jun 23 08:56 ../\n",
      "drwxr-xr-x    1 Thomas H Administ     4096 Jun 23 08:57 .git/\n"
     ]
    }
   ],
   "source": [
    "!ls -laF"
   ]
  },
  {
   "cell_type": "markdown",
   "metadata": {},
   "source": [
    "We know that this directory has a git repo because we now have a folder .git.  Within this folder keeps all the information about any files we might have.\n",
    "\n",
    "Next, let's create a dummy file."
   ]
  },
  {
   "cell_type": "code",
   "execution_count": 12,
   "metadata": {
    "collapsed": false
   },
   "outputs": [],
   "source": [
    "!touch test.txt"
   ]
  },
  {
   "cell_type": "code",
   "execution_count": 13,
   "metadata": {
    "collapsed": false
   },
   "outputs": [
    {
     "name": "stdout",
     "output_type": "stream",
     "text": [
      "total 2\n",
      "drwxr-xr-x    1 Thomas H Administ        0 Jun 23 08:57 ./\n",
      "dr-xr-xr-x    1 Thomas H Administ        0 Jun 23 08:56 ../\n",
      "drwxr-xr-x    1 Thomas H Administ     4096 Jun 23 08:57 .git/\n",
      "-rw-r--r--    1 Thomas H Administ        0 Jun 23 08:57 test.txt\n"
     ]
    }
   ],
   "source": [
    "!ls -laF"
   ]
  },
  {
   "cell_type": "markdown",
   "metadata": {},
   "source": [
    "Now if we do a git status we will see:"
   ]
  },
  {
   "cell_type": "code",
   "execution_count": 14,
   "metadata": {
    "collapsed": false
   },
   "outputs": [
    {
     "name": "stdout",
     "output_type": "stream",
     "text": [
      "On branch master\n",
      "\n",
      "Initial commit\n",
      "\n",
      "Untracked files:\n",
      "  (use \"git add <file>...\" to include in what will be committed)\n",
      "\n",
      "\ttest.txt\n",
      "\n",
      "nothing added to commit but untracked files present (use \"git add\" to track)\n"
     ]
    }
   ],
   "source": [
    "!git status"
   ]
  },
  {
   "cell_type": "markdown",
   "metadata": {},
   "source": [
    "As we said, git status tells us the current state of our project.  From this git status, we have learned that we are on the master branch (more on that later), that we are at our initial commit, meaning we have yet to commit a change to the repo (more on that later), and we have one file, test.txt, in the directory, and this file is untracked. This means that git is not currently monitoring this file.  While git is monitoring this directory, you have to specify which files you want tracked/monitored/snapshotted.  Otherwise, this file doesn't exist in the eyes of git.  So let's track the file. "
   ]
  },
  {
   "cell_type": "markdown",
   "metadata": {},
   "source": [
    "Realistically speaking, you can do this one of two ways.  First, I'm going to teach you the \"proper\" way to do it.  Later, I'm going to teach you the shortcut way to do it.  "
   ]
  },
  {
   "cell_type": "code",
   "execution_count": 9,
   "metadata": {
    "collapsed": false
   },
   "outputs": [],
   "source": [
    "!git add test.txt"
   ]
  },
  {
   "cell_type": "code",
   "execution_count": 10,
   "metadata": {
    "collapsed": false
   },
   "outputs": [
    {
     "name": "stdout",
     "output_type": "stream",
     "text": [
      "On branch master\r\n",
      "\r\n",
      "Initial commit\r\n",
      "\r\n",
      "Changes to be committed:\r\n",
      "  (use \"git rm --cached <file>...\" to unstage)\r\n",
      "\r\n",
      "\t\u001b[32mnew file:   test.txt\u001b[m\r\n",
      "\r\n"
     ]
    }
   ],
   "source": [
    "!git status"
   ]
  },
  {
   "cell_type": "markdown",
   "metadata": {},
   "source": [
    "When we typed \"git add test.txt\" we notice that everything is the same except now, instead of having an \"untracked file\", we have a new file that is staged.  When you \"add\" a file, it is not committed to the git repository.  You can use the staging area to add a series of changes that can then be committed together.  No matter what, you cannot skip the staging step, BUT, as we will see later, you can use a shortcut that makes it seem like you are.  "
   ]
  },
  {
   "cell_type": "markdown",
   "metadata": {},
   "source": [
    "Now it's your turn.  Add the sentence, \"Git rocks!\" to your test.txt file, and then track that change in git."
   ]
  },
  {
   "cell_type": "code",
   "execution_count": 0,
   "metadata": {
    "collapsed": false
   },
   "outputs": [],
   "source": []
  },
  {
   "cell_type": "code",
   "execution_count": 12,
   "metadata": {
    "collapsed": false
   },
   "outputs": [
    {
     "name": "stdout",
     "output_type": "stream",
     "text": [
      "On branch master\r\n",
      "\r\n",
      "Initial commit\r\n",
      "\r\n",
      "Changes to be committed:\r\n",
      "  (use \"git rm --cached <file>...\" to unstage)\r\n",
      "\r\n",
      "\t\u001b[32mnew file:   test.txt\u001b[m\r\n",
      "\r\n"
     ]
    }
   ],
   "source": [
    "!git status"
   ]
  },
  {
   "cell_type": "markdown",
   "metadata": {},
   "source": [
    "You should be aware that if you have multiple files in your git repo that you want to stage/add/track, you can type \"git add .\" and all the files in that directory will be staged for a commit.  "
   ]
  },
  {
   "cell_type": "markdown",
   "metadata": {},
   "source": [
    "To commit your changes to the git repo, we do the following command:"
   ]
  },
  {
   "cell_type": "code",
   "execution_count": 13,
   "metadata": {
    "collapsed": false
   },
   "outputs": [
    {
     "name": "stdout",
     "output_type": "stream",
     "text": [
      "[master (root-commit) c16f067] Initial commit, add test.txt file\r\n",
      " 1 file changed, 1 insertion(+)\r\n",
      " create mode 100644 test.txt\r\n"
     ]
    }
   ],
   "source": [
    "!git commit -m \"Initial commit, add test.txt file\""
   ]
  },
  {
   "cell_type": "markdown",
   "metadata": {},
   "source": [
    "A commit allows you to record all of your staged content.  You can use these recordings, or snapshots of your work, to compare to other commits or snapshots."
   ]
  },
  {
   "cell_type": "markdown",
   "metadata": {},
   "source": [
    "Now if we do a git status, we see:"
   ]
  },
  {
   "cell_type": "code",
   "execution_count": 14,
   "metadata": {
    "collapsed": false
   },
   "outputs": [
    {
     "name": "stdout",
     "output_type": "stream",
     "text": [
      "On branch master\r\n",
      "nothing to commit, working directory clean\r\n"
     ]
    }
   ],
   "source": [
    "!git status"
   ]
  },
  {
   "cell_type": "markdown",
   "metadata": {},
   "source": [
    "We are up to date in our directory, and all our changes have been committed.  \n",
    "\n",
    "Another useful command to use is \"git diff\".  This command allows you to see what is different about the file now from what has been committed.  git status allows you to see this too, but git status only tells you if there is a difference; git diff tells you what that difference is.   "
   ]
  },
  {
   "cell_type": "code",
   "execution_count": 15,
   "metadata": {
    "collapsed": false
   },
   "outputs": [],
   "source": [
    "!git diff"
   ]
  },
  {
   "cell_type": "markdown",
   "metadata": {},
   "source": [
    "There are no changes.  Let's change our file and add the change."
   ]
  },
  {
   "cell_type": "code",
   "execution_count": 20,
   "metadata": {
    "collapsed": false
   },
   "outputs": [],
   "source": [
    "!echo 'Git really rocks!' >> test.txt"
   ]
  },
  {
   "cell_type": "code",
   "execution_count": 16,
   "metadata": {
    "collapsed": false
   },
   "outputs": [
    {
     "name": "stdout",
     "output_type": "stream",
     "text": [
      "\u001b[1mdiff --git a/test.txt b/test.txt\u001b[m\r\n",
      "\u001b[1mindex ded3e4d..092b29e 100644\u001b[m\r\n",
      "\u001b[1m--- a/test.txt\u001b[m\r\n",
      "\u001b[1m+++ b/test.txt\u001b[m\r\n",
      "\u001b[36m@@ -1 +1,2 @@\u001b[m\r\n",
      " Git rocks!\u001b[m\r\n",
      "\u001b[32m+\u001b[m\u001b[32mGit really rocks!\u001b[m\r\n"
     ]
    }
   ],
   "source": [
    "!git diff"
   ]
  },
  {
   "cell_type": "markdown",
   "metadata": {},
   "source": [
    "Here we can see that \"Git rocks!\" is part of the file, and we've added (+) the line \"Git really rocks!\"\n",
    "\n",
    "Let's do another git status:"
   ]
  },
  {
   "cell_type": "code",
   "execution_count": 17,
   "metadata": {
    "collapsed": false
   },
   "outputs": [
    {
     "name": "stdout",
     "output_type": "stream",
     "text": [
      "On branch master\r\n",
      "Changes not staged for commit:\r\n",
      "  (use \"git add <file>...\" to update what will be committed)\r\n",
      "  (use \"git checkout -- <file>...\" to discard changes in working directory)\r\n",
      "\r\n",
      "\t\u001b[31mmodified:   test.txt\u001b[m\r\n",
      "\r\n",
      "no changes added to commit (use \"git add\" and/or \"git commit -a\")\r\n"
     ]
    }
   ],
   "source": [
    "!git status"
   ]
  },
  {
   "cell_type": "markdown",
   "metadata": {},
   "source": [
    "We see that we've modified our file and have not yet added/staged those changes.  Let's do a short cut to add and commit the changes rather than doing it in two steps:"
   ]
  },
  {
   "cell_type": "code",
   "execution_count": 19,
   "metadata": {
    "collapsed": false
   },
   "outputs": [
    {
     "name": "stdout",
     "output_type": "stream",
     "text": [
      "[master 4ae6ef4] Added a second line to test.txt\r\n",
      " 1 file changed, 1 insertion(+)\r\n"
     ]
    }
   ],
   "source": [
    "!git commit -am \"Added a second line to test.txt\""
   ]
  },
  {
   "cell_type": "markdown",
   "metadata": {},
   "source": [
    "This allows you to stage any file that was in your last commit and has been modified.  You still have to do the \"git add\" command for new files."
   ]
  },
  {
   "cell_type": "code",
   "execution_count": 20,
   "metadata": {
    "collapsed": false
   },
   "outputs": [
    {
     "name": "stdout",
     "output_type": "stream",
     "text": [
      "On branch master\r\n",
      "nothing to commit, working directory clean\r\n"
     ]
    }
   ],
   "source": [
    "!git status"
   ]
  },
  {
   "cell_type": "markdown",
   "metadata": {},
   "source": [
    "There is A LOT more you can do with git, but this will get you started.  "
   ]
  },
  {
   "cell_type": "markdown",
   "metadata": {},
   "source": [
    "Now it's your turn.  Do the following:\n",
    "\n",
    "- Create a file called usgs_tutorial.txt\n",
    "- Create a second file called usgs_tutorial_second.txt\n",
    "- Add a line to each file\n",
    "- Stage and commit the changes to the repo"
   ]
  },
  {
   "cell_type": "markdown",
   "metadata": {},
   "source": [
    "The last thing we will do is get a remote repo.  To do that we'll go back to the PowerPoint."
   ]
  },
  {
   "cell_type": "code",
   "execution_count": null,
   "metadata": {
    "collapsed": false
   },
   "outputs": [],
   "source": []
  }
 ],
 "metadata": {
  "kernelspec": {
   "display_name": "Python 2",
   "language": "python",
   "name": "python2"
  },
  "language_info": {
   "codemirror_mode": {
    "name": "ipython",
    "version": 2
   },
   "file_extension": ".py",
   "mimetype": "text/x-python",
   "name": "python",
   "nbconvert_exporter": "python",
   "pygments_lexer": "ipython2",
   "version": "2.7.8"
  }
 },
 "nbformat": 4,
 "nbformat_minor": 0
}
