{
 "cells": [
  {
   "cell_type": "markdown",
   "metadata": {
    "slideshow": {
     "slide_type": "slide"
    }
   },
   "source": [
    "# Getting Started with Exploratory Data Analysis\n",
    "\n",
    "3 important Python packages\n",
    "1. NumPy for efficient computation on arrays\n",
    "2. Pandas for data analysis\n",
    "3. Matplotlib for plotting in the notebook"
   ]
  },
  {
   "cell_type": "code",
   "execution_count": 1,
   "metadata": {
    "collapsed": true
   },
   "outputs": [],
   "source": [
    "import os\n",
    "import numpy as np\n",
    "import pandas as pd\n",
    "import matplotlib.pyplot as plt\n",
    "%matplotlib inline"
   ]
  },
  {
   "cell_type": "markdown",
   "metadata": {
    "slideshow": {
     "slide_type": "slide"
    }
   },
   "source": [
    "## Pandas\n",
    "\n",
    "Python module for manipulating tabular data\n",
    "\n",
    "## `pandas`\n",
    "\n",
    "- Provides python a `DataFrame`\n",
    "- Structured manipulation tools\n",
    "- Built on top of `numpy`\n",
    "- Huge growth from 2011-2012\n",
    "- Very **efficient**\n",
    "- Great for *medium* data\n",
    "\n",
    "Resources\n",
    "\n",
    "- [pandas.pydata.org](http://pandas.pydata.org/)\n",
    "- [Python for Data Analysis](http://www.amazon.com/Python-Data-Analysis-Wrangling-IPython/dp/1449319793) by Wes McKinney\n",
    "- [Data Wrangling Kung Fu with Pandas](vimeo.com/63295598) by Wes McKinney\n",
    "- [Cheat sheet](https://s3.amazonaws.com/quandl-static-content/Documents/Quandl+-+Pandas,+SciPy,+NumPy+Cheat+Sheet.pdf) by Quandl"
   ]
  },
  {
   "cell_type": "markdown",
   "metadata": {
    "slideshow": {
     "slide_type": "slide"
    }
   },
   "source": [
    "### Why `pandas`?\n",
    "\n",
    "> 80% of the effort in data analysis is spent cleaning data. [Hadley Wickham](http://vita.had.co.nz/papers/tidy-data.pdf)\n",
    "\n",
    "Efficency\n",
    "\n",
    "- Different views of data\n",
    "- [Tidy data](http://vita.had.co.nz/papers/tidy-data.pdf) by Hadley Wickham\n",
    "\n",
    "Raw data is often in the wrong format\n",
    "\n",
    "- How often to you download an array ready for array-oriented computing?\n",
    "- e.g. `scikit-learn` interface\n",
    "\n",
    "Storage may be best in a different format\n",
    "\n",
    "- Sparse representations\n",
    "- Upload to database\n",
    "\n",
    "\n"
   ]
  },
  {
   "cell_type": "markdown",
   "metadata": {
    "slideshow": {
     "slide_type": "slide"
    }
   },
   "source": [
    "## Simple example using the Walrus data"
   ]
  },
  {
   "cell_type": "markdown",
   "metadata": {},
   "source": [
    "### Reading a CSV file as text"
   ]
  },
  {
   "cell_type": "code",
   "execution_count": 56,
   "metadata": {
    "collapsed": false
   },
   "outputs": [
    {
     "data": {
      "text/plain": [
       "['Walrus,DateTimeUTC,Xcoord,Ycoord,Behav,Longitude,Latitude\\r\\n',\n",
       " '271,5/31/2008 19:25,\"95,616.95\",\"-528,324.60\",1.009,-167.9560949,65.24871506\\r\\n',\n",
       " '271,6/1/2008 3:24,\"84,741.71\",\"-511,653.75\",1.0005,-168.1779869,65.40121711\\r\\n',\n",
       " '271,6/1/2008 11:24,\"71,834.45\",\"-491,176.95\",1.00625,-168.4443605,65.58796906\\r\\n',\n",
       " '271,6/1/2008 19:24,\"65,275.80\",\"-478,935.62\",1.02025,-168.5802843,65.6991429\\r\\n',\n",
       " '271,6/2/2008 3:24,\"69,343.24\",\"-473,948.91\",1.00775,-168.4892154,65.74298362\\r\\n',\n",
       " '271,6/2/2008 11:24,\"72,634.53\",\"-457,308.67\",1,-168.4082441,65.89142326\\r\\n',\n",
       " '271,6/2/2008 19:24,\"73,253.86\",\"-425,586.14\",1,-168.3764825,66.17566325\\r\\n',\n",
       " '271,6/3/2008 3:24,\"79,223.97\",\"-401,784.87\",1.00975,-168.2291622,66.38754225\\r\\n',\n",
       " '271,6/3/2008 11:24,\"77,052.23\",\"-382,920.49\",1.20225,-168.2658694,66.5571914\\r\\n']"
      ]
     },
     "execution_count": 56,
     "metadata": {},
     "output_type": "execute_result"
    }
   ],
   "source": [
    "filename = os.path.join('Walrus_Data','Walruses.csv')\n",
    "f = open(filename, 'r')\n",
    "lines = f.readlines()\n",
    "lines[:10]"
   ]
  },
  {
   "cell_type": "markdown",
   "metadata": {},
   "source": [
    "### Creating a `DataFrame`\n",
    "\n",
    "`df = pd.read_csv(filename)`\n",
    "`print df`\n",
    "\n",
    "**Why store it this way?**\n",
    "\n",
    "- Different type\n",
    "- Different metric\n",
    "\n",
    "### Converting the DateTimeUTC Column\n",
    "\n",
    "NumPy datetime64 dtype\n",
    "\n",
    "### Converting the `Xcoord` and `Ycoord`\n",
    "\n",
    "thousands=','"
   ]
  },
  {
   "cell_type": "code",
   "execution_count": 57,
   "metadata": {
    "collapsed": false,
    "slideshow": {
     "slide_type": "subslide"
    }
   },
   "outputs": [
    {
     "data": {
      "text/html": [
       "<div>\n",
       "<table border=\"1\" class=\"dataframe\">\n",
       "  <thead>\n",
       "    <tr style=\"text-align: right;\">\n",
       "      <th></th>\n",
       "      <th>Walrus</th>\n",
       "      <th>DateTimeUTC</th>\n",
       "      <th>Xcoord</th>\n",
       "      <th>Ycoord</th>\n",
       "      <th>Behav</th>\n",
       "      <th>Longitude</th>\n",
       "      <th>Latitude</th>\n",
       "    </tr>\n",
       "  </thead>\n",
       "  <tbody>\n",
       "    <tr>\n",
       "      <th>0</th>\n",
       "      <td>271</td>\n",
       "      <td>2008-05-31 19:25:00</td>\n",
       "      <td>95616.95</td>\n",
       "      <td>-528324.60</td>\n",
       "      <td>1.00900</td>\n",
       "      <td>-167.956095</td>\n",
       "      <td>65.248715</td>\n",
       "    </tr>\n",
       "    <tr>\n",
       "      <th>1</th>\n",
       "      <td>271</td>\n",
       "      <td>2008-06-01 03:24:00</td>\n",
       "      <td>84741.71</td>\n",
       "      <td>-511653.75</td>\n",
       "      <td>1.00050</td>\n",
       "      <td>-168.177987</td>\n",
       "      <td>65.401217</td>\n",
       "    </tr>\n",
       "    <tr>\n",
       "      <th>2</th>\n",
       "      <td>271</td>\n",
       "      <td>2008-06-01 11:24:00</td>\n",
       "      <td>71834.45</td>\n",
       "      <td>-491176.95</td>\n",
       "      <td>1.00625</td>\n",
       "      <td>-168.444360</td>\n",
       "      <td>65.587969</td>\n",
       "    </tr>\n",
       "    <tr>\n",
       "      <th>3</th>\n",
       "      <td>271</td>\n",
       "      <td>2008-06-01 19:24:00</td>\n",
       "      <td>65275.80</td>\n",
       "      <td>-478935.62</td>\n",
       "      <td>1.02025</td>\n",
       "      <td>-168.580284</td>\n",
       "      <td>65.699143</td>\n",
       "    </tr>\n",
       "    <tr>\n",
       "      <th>4</th>\n",
       "      <td>271</td>\n",
       "      <td>2008-06-02 03:24:00</td>\n",
       "      <td>69343.24</td>\n",
       "      <td>-473948.91</td>\n",
       "      <td>1.00775</td>\n",
       "      <td>-168.489215</td>\n",
       "      <td>65.742984</td>\n",
       "    </tr>\n",
       "  </tbody>\n",
       "</table>\n",
       "</div>"
      ],
      "text/plain": [
       "   Walrus         DateTimeUTC    Xcoord     Ycoord    Behav   Longitude  \\\n",
       "0     271 2008-05-31 19:25:00  95616.95 -528324.60  1.00900 -167.956095   \n",
       "1     271 2008-06-01 03:24:00  84741.71 -511653.75  1.00050 -168.177987   \n",
       "2     271 2008-06-01 11:24:00  71834.45 -491176.95  1.00625 -168.444360   \n",
       "3     271 2008-06-01 19:24:00  65275.80 -478935.62  1.02025 -168.580284   \n",
       "4     271 2008-06-02 03:24:00  69343.24 -473948.91  1.00775 -168.489215   \n",
       "\n",
       "    Latitude  \n",
       "0  65.248715  \n",
       "1  65.401217  \n",
       "2  65.587969  \n",
       "3  65.699143  \n",
       "4  65.742984  "
      ]
     },
     "execution_count": 57,
     "metadata": {},
     "output_type": "execute_result"
    }
   ],
   "source": [
    "filename = os.path.join('Walrus_Data','Walruses.csv')\n",
    "df = pd.read_csv(filename, parse_dates=[1], \n",
    "                 thousands=',')\n",
    "df.head(5)"
   ]
  },
  {
   "cell_type": "markdown",
   "metadata": {},
   "source": [
    "### Indexing"
   ]
  },
  {
   "cell_type": "code",
   "execution_count": 45,
   "metadata": {
    "collapsed": false
   },
   "outputs": [
    {
     "data": {
      "text/html": [
       "<div>\n",
       "<table border=\"1\" class=\"dataframe\">\n",
       "  <thead>\n",
       "    <tr style=\"text-align: right;\">\n",
       "      <th></th>\n",
       "      <th>Walrus</th>\n",
       "      <th>DateTimeUTC</th>\n",
       "      <th>Xcoord</th>\n",
       "      <th>Ycoord</th>\n",
       "      <th>Behav</th>\n",
       "      <th>Longitude</th>\n",
       "      <th>Latitude</th>\n",
       "    </tr>\n",
       "  </thead>\n",
       "  <tbody>\n",
       "    <tr>\n",
       "      <th>2</th>\n",
       "      <td>271</td>\n",
       "      <td>2008-06-01 11:24:00</td>\n",
       "      <td>71834.45</td>\n",
       "      <td>-491176.95</td>\n",
       "      <td>1.00625</td>\n",
       "      <td>-168.444360</td>\n",
       "      <td>65.587969</td>\n",
       "    </tr>\n",
       "    <tr>\n",
       "      <th>3</th>\n",
       "      <td>271</td>\n",
       "      <td>2008-06-01 19:24:00</td>\n",
       "      <td>65275.80</td>\n",
       "      <td>-478935.62</td>\n",
       "      <td>1.02025</td>\n",
       "      <td>-168.580284</td>\n",
       "      <td>65.699143</td>\n",
       "    </tr>\n",
       "    <tr>\n",
       "      <th>4</th>\n",
       "      <td>271</td>\n",
       "      <td>2008-06-02 03:24:00</td>\n",
       "      <td>69343.24</td>\n",
       "      <td>-473948.91</td>\n",
       "      <td>1.00775</td>\n",
       "      <td>-168.489215</td>\n",
       "      <td>65.742984</td>\n",
       "    </tr>\n",
       "    <tr>\n",
       "      <th>5</th>\n",
       "      <td>271</td>\n",
       "      <td>2008-06-02 11:24:00</td>\n",
       "      <td>72634.53</td>\n",
       "      <td>-457308.67</td>\n",
       "      <td>1.00000</td>\n",
       "      <td>-168.408244</td>\n",
       "      <td>65.891423</td>\n",
       "    </tr>\n",
       "    <tr>\n",
       "      <th>6</th>\n",
       "      <td>271</td>\n",
       "      <td>2008-06-02 19:24:00</td>\n",
       "      <td>73253.86</td>\n",
       "      <td>-425586.14</td>\n",
       "      <td>1.00000</td>\n",
       "      <td>-168.376483</td>\n",
       "      <td>66.175663</td>\n",
       "    </tr>\n",
       "    <tr>\n",
       "      <th>7</th>\n",
       "      <td>271</td>\n",
       "      <td>2008-06-03 03:24:00</td>\n",
       "      <td>79223.97</td>\n",
       "      <td>-401784.87</td>\n",
       "      <td>1.00975</td>\n",
       "      <td>-168.229162</td>\n",
       "      <td>66.387542</td>\n",
       "    </tr>\n",
       "    <tr>\n",
       "      <th>8</th>\n",
       "      <td>271</td>\n",
       "      <td>2008-06-03 11:24:00</td>\n",
       "      <td>77052.23</td>\n",
       "      <td>-382920.49</td>\n",
       "      <td>1.20225</td>\n",
       "      <td>-168.265869</td>\n",
       "      <td>66.557191</td>\n",
       "    </tr>\n",
       "    <tr>\n",
       "      <th>9</th>\n",
       "      <td>271</td>\n",
       "      <td>2008-06-03 19:24:00</td>\n",
       "      <td>73380.11</td>\n",
       "      <td>-379615.25</td>\n",
       "      <td>1.24225</td>\n",
       "      <td>-168.346486</td>\n",
       "      <td>66.587727</td>\n",
       "    </tr>\n",
       "  </tbody>\n",
       "</table>\n",
       "</div>"
      ],
      "text/plain": [
       "   Walrus         DateTimeUTC    Xcoord     Ycoord    Behav   Longitude  \\\n",
       "2     271 2008-06-01 11:24:00  71834.45 -491176.95  1.00625 -168.444360   \n",
       "3     271 2008-06-01 19:24:00  65275.80 -478935.62  1.02025 -168.580284   \n",
       "4     271 2008-06-02 03:24:00  69343.24 -473948.91  1.00775 -168.489215   \n",
       "5     271 2008-06-02 11:24:00  72634.53 -457308.67  1.00000 -168.408244   \n",
       "6     271 2008-06-02 19:24:00  73253.86 -425586.14  1.00000 -168.376483   \n",
       "7     271 2008-06-03 03:24:00  79223.97 -401784.87  1.00975 -168.229162   \n",
       "8     271 2008-06-03 11:24:00  77052.23 -382920.49  1.20225 -168.265869   \n",
       "9     271 2008-06-03 19:24:00  73380.11 -379615.25  1.24225 -168.346486   \n",
       "\n",
       "    Latitude  \n",
       "2  65.587969  \n",
       "3  65.699143  \n",
       "4  65.742984  \n",
       "5  65.891423  \n",
       "6  66.175663  \n",
       "7  66.387542  \n",
       "8  66.557191  \n",
       "9  66.587727  "
      ]
     },
     "execution_count": 45,
     "metadata": {},
     "output_type": "execute_result"
    }
   ],
   "source": [
    "df[2:10]"
   ]
  },
  {
   "cell_type": "code",
   "execution_count": 46,
   "metadata": {
    "collapsed": false
   },
   "outputs": [
    {
     "data": {
      "text/html": [
       "<div>\n",
       "<table border=\"1\" class=\"dataframe\">\n",
       "  <thead>\n",
       "    <tr style=\"text-align: right;\">\n",
       "      <th></th>\n",
       "      <th>Walrus</th>\n",
       "      <th>DateTimeUTC</th>\n",
       "      <th>Xcoord</th>\n",
       "      <th>Ycoord</th>\n",
       "      <th>Behav</th>\n",
       "      <th>Longitude</th>\n",
       "      <th>Latitude</th>\n",
       "    </tr>\n",
       "  </thead>\n",
       "  <tbody>\n",
       "    <tr>\n",
       "      <th>449</th>\n",
       "      <td>322</td>\n",
       "      <td>2009-07-05 12:11:00</td>\n",
       "      <td>-465471.95</td>\n",
       "      <td>169270.91</td>\n",
       "      <td>1.32675</td>\n",
       "      <td>177.051563</td>\n",
       "      <td>71.071287</td>\n",
       "    </tr>\n",
       "    <tr>\n",
       "      <th>450</th>\n",
       "      <td>322</td>\n",
       "      <td>2009-07-05 20:11:00</td>\n",
       "      <td>-473786.46</td>\n",
       "      <td>174848.10</td>\n",
       "      <td>1.52075</td>\n",
       "      <td>176.794183</td>\n",
       "      <td>71.104176</td>\n",
       "    </tr>\n",
       "    <tr>\n",
       "      <th>451</th>\n",
       "      <td>322</td>\n",
       "      <td>2009-07-06 04:11:00</td>\n",
       "      <td>-462401.15</td>\n",
       "      <td>175580.80</td>\n",
       "      <td>1.47450</td>\n",
       "      <td>177.097679</td>\n",
       "      <td>71.132315</td>\n",
       "    </tr>\n",
       "    <tr>\n",
       "      <th>452</th>\n",
       "      <td>322</td>\n",
       "      <td>2009-07-06 12:11:00</td>\n",
       "      <td>-449812.23</td>\n",
       "      <td>178045.34</td>\n",
       "      <td>1.47200</td>\n",
       "      <td>177.424821</td>\n",
       "      <td>71.177357</td>\n",
       "    </tr>\n",
       "    <tr>\n",
       "      <th>453</th>\n",
       "      <td>322</td>\n",
       "      <td>2009-07-06 20:11:00</td>\n",
       "      <td>-443963.94</td>\n",
       "      <td>180789.20</td>\n",
       "      <td>1.46775</td>\n",
       "      <td>177.568265</td>\n",
       "      <td>71.212108</td>\n",
       "    </tr>\n",
       "  </tbody>\n",
       "</table>\n",
       "</div>"
      ],
      "text/plain": [
       "     Walrus         DateTimeUTC     Xcoord     Ycoord    Behav   Longitude  \\\n",
       "449     322 2009-07-05 12:11:00 -465471.95  169270.91  1.32675  177.051563   \n",
       "450     322 2009-07-05 20:11:00 -473786.46  174848.10  1.52075  176.794183   \n",
       "451     322 2009-07-06 04:11:00 -462401.15  175580.80  1.47450  177.097679   \n",
       "452     322 2009-07-06 12:11:00 -449812.23  178045.34  1.47200  177.424821   \n",
       "453     322 2009-07-06 20:11:00 -443963.94  180789.20  1.46775  177.568265   \n",
       "\n",
       "      Latitude  \n",
       "449  71.071287  \n",
       "450  71.104176  \n",
       "451  71.132315  \n",
       "452  71.177357  \n",
       "453  71.212108  "
      ]
     },
     "execution_count": 46,
     "metadata": {},
     "output_type": "execute_result"
    }
   ],
   "source": [
    "df[-5:]"
   ]
  },
  {
   "cell_type": "markdown",
   "metadata": {},
   "source": [
    "### Hierarchical columns\n",
    "\n"
   ]
  },
  {
   "cell_type": "code",
   "execution_count": 47,
   "metadata": {
    "collapsed": false
   },
   "outputs": [
    {
     "data": {
      "text/html": [
       "<div>\n",
       "<table border=\"1\" class=\"dataframe\">\n",
       "  <thead>\n",
       "    <tr>\n",
       "      <th></th>\n",
       "      <th colspan=\"3\" halign=\"left\">Xcoord</th>\n",
       "      <th colspan=\"3\" halign=\"left\">Ycoord</th>\n",
       "      <th colspan=\"3\" halign=\"left\">Behav</th>\n",
       "      <th colspan=\"3\" halign=\"left\">Longitude</th>\n",
       "      <th colspan=\"3\" halign=\"left\">Latitude</th>\n",
       "    </tr>\n",
       "    <tr>\n",
       "      <th>Walrus</th>\n",
       "      <th>271</th>\n",
       "      <th>281</th>\n",
       "      <th>322</th>\n",
       "      <th>271</th>\n",
       "      <th>281</th>\n",
       "      <th>322</th>\n",
       "      <th>271</th>\n",
       "      <th>281</th>\n",
       "      <th>322</th>\n",
       "      <th>271</th>\n",
       "      <th>281</th>\n",
       "      <th>322</th>\n",
       "      <th>271</th>\n",
       "      <th>281</th>\n",
       "      <th>322</th>\n",
       "    </tr>\n",
       "    <tr>\n",
       "      <th>DateTimeUTC</th>\n",
       "      <th></th>\n",
       "      <th></th>\n",
       "      <th></th>\n",
       "      <th></th>\n",
       "      <th></th>\n",
       "      <th></th>\n",
       "      <th></th>\n",
       "      <th></th>\n",
       "      <th></th>\n",
       "      <th></th>\n",
       "      <th></th>\n",
       "      <th></th>\n",
       "      <th></th>\n",
       "      <th></th>\n",
       "      <th></th>\n",
       "    </tr>\n",
       "  </thead>\n",
       "  <tbody>\n",
       "    <tr>\n",
       "      <th>2008-05-31 19:25:00</th>\n",
       "      <td>95616.95</td>\n",
       "      <td>NaN</td>\n",
       "      <td>NaN</td>\n",
       "      <td>-528324.60</td>\n",
       "      <td>NaN</td>\n",
       "      <td>NaN</td>\n",
       "      <td>1.00900</td>\n",
       "      <td>NaN</td>\n",
       "      <td>NaN</td>\n",
       "      <td>-167.956095</td>\n",
       "      <td>NaN</td>\n",
       "      <td>NaN</td>\n",
       "      <td>65.248715</td>\n",
       "      <td>NaN</td>\n",
       "      <td>NaN</td>\n",
       "    </tr>\n",
       "    <tr>\n",
       "      <th>2008-06-01 03:24:00</th>\n",
       "      <td>84741.71</td>\n",
       "      <td>NaN</td>\n",
       "      <td>NaN</td>\n",
       "      <td>-511653.75</td>\n",
       "      <td>NaN</td>\n",
       "      <td>NaN</td>\n",
       "      <td>1.00050</td>\n",
       "      <td>NaN</td>\n",
       "      <td>NaN</td>\n",
       "      <td>-168.177987</td>\n",
       "      <td>NaN</td>\n",
       "      <td>NaN</td>\n",
       "      <td>65.401217</td>\n",
       "      <td>NaN</td>\n",
       "      <td>NaN</td>\n",
       "    </tr>\n",
       "    <tr>\n",
       "      <th>2008-06-01 11:24:00</th>\n",
       "      <td>71834.45</td>\n",
       "      <td>NaN</td>\n",
       "      <td>NaN</td>\n",
       "      <td>-491176.95</td>\n",
       "      <td>NaN</td>\n",
       "      <td>NaN</td>\n",
       "      <td>1.00625</td>\n",
       "      <td>NaN</td>\n",
       "      <td>NaN</td>\n",
       "      <td>-168.444360</td>\n",
       "      <td>NaN</td>\n",
       "      <td>NaN</td>\n",
       "      <td>65.587969</td>\n",
       "      <td>NaN</td>\n",
       "      <td>NaN</td>\n",
       "    </tr>\n",
       "    <tr>\n",
       "      <th>2008-06-01 19:24:00</th>\n",
       "      <td>65275.80</td>\n",
       "      <td>NaN</td>\n",
       "      <td>NaN</td>\n",
       "      <td>-478935.62</td>\n",
       "      <td>NaN</td>\n",
       "      <td>NaN</td>\n",
       "      <td>1.02025</td>\n",
       "      <td>NaN</td>\n",
       "      <td>NaN</td>\n",
       "      <td>-168.580284</td>\n",
       "      <td>NaN</td>\n",
       "      <td>NaN</td>\n",
       "      <td>65.699143</td>\n",
       "      <td>NaN</td>\n",
       "      <td>NaN</td>\n",
       "    </tr>\n",
       "    <tr>\n",
       "      <th>2008-06-02 02:25:00</th>\n",
       "      <td>NaN</td>\n",
       "      <td>65600.95</td>\n",
       "      <td>NaN</td>\n",
       "      <td>NaN</td>\n",
       "      <td>-417464.74</td>\n",
       "      <td>NaN</td>\n",
       "      <td>NaN</td>\n",
       "      <td>1.54400</td>\n",
       "      <td>NaN</td>\n",
       "      <td>NaN</td>\n",
       "      <td>-168.541792</td>\n",
       "      <td>NaN</td>\n",
       "      <td>NaN</td>\n",
       "      <td>66.250190</td>\n",
       "      <td>NaN</td>\n",
       "    </tr>\n",
       "    <tr>\n",
       "      <th>2008-06-02 03:24:00</th>\n",
       "      <td>69343.24</td>\n",
       "      <td>NaN</td>\n",
       "      <td>NaN</td>\n",
       "      <td>-473948.91</td>\n",
       "      <td>NaN</td>\n",
       "      <td>NaN</td>\n",
       "      <td>1.00775</td>\n",
       "      <td>NaN</td>\n",
       "      <td>NaN</td>\n",
       "      <td>-168.489215</td>\n",
       "      <td>NaN</td>\n",
       "      <td>NaN</td>\n",
       "      <td>65.742984</td>\n",
       "      <td>NaN</td>\n",
       "      <td>NaN</td>\n",
       "    </tr>\n",
       "    <tr>\n",
       "      <th>2008-06-02 10:24:00</th>\n",
       "      <td>NaN</td>\n",
       "      <td>61574.27</td>\n",
       "      <td>NaN</td>\n",
       "      <td>NaN</td>\n",
       "      <td>-421676.30</td>\n",
       "      <td>NaN</td>\n",
       "      <td>NaN</td>\n",
       "      <td>1.56700</td>\n",
       "      <td>NaN</td>\n",
       "      <td>NaN</td>\n",
       "      <td>-168.633333</td>\n",
       "      <td>NaN</td>\n",
       "      <td>NaN</td>\n",
       "      <td>66.213262</td>\n",
       "      <td>NaN</td>\n",
       "    </tr>\n",
       "    <tr>\n",
       "      <th>2008-06-02 11:24:00</th>\n",
       "      <td>72634.53</td>\n",
       "      <td>NaN</td>\n",
       "      <td>NaN</td>\n",
       "      <td>-457308.67</td>\n",
       "      <td>NaN</td>\n",
       "      <td>NaN</td>\n",
       "      <td>1.00000</td>\n",
       "      <td>NaN</td>\n",
       "      <td>NaN</td>\n",
       "      <td>-168.408244</td>\n",
       "      <td>NaN</td>\n",
       "      <td>NaN</td>\n",
       "      <td>65.891423</td>\n",
       "      <td>NaN</td>\n",
       "      <td>NaN</td>\n",
       "    </tr>\n",
       "    <tr>\n",
       "      <th>2008-06-02 18:24:00</th>\n",
       "      <td>NaN</td>\n",
       "      <td>56545.12</td>\n",
       "      <td>NaN</td>\n",
       "      <td>NaN</td>\n",
       "      <td>-426070.18</td>\n",
       "      <td>NaN</td>\n",
       "      <td>NaN</td>\n",
       "      <td>1.62975</td>\n",
       "      <td>NaN</td>\n",
       "      <td>NaN</td>\n",
       "      <td>-168.746897</td>\n",
       "      <td>NaN</td>\n",
       "      <td>NaN</td>\n",
       "      <td>66.174829</td>\n",
       "      <td>NaN</td>\n",
       "    </tr>\n",
       "    <tr>\n",
       "      <th>2008-06-02 19:24:00</th>\n",
       "      <td>73253.86</td>\n",
       "      <td>NaN</td>\n",
       "      <td>NaN</td>\n",
       "      <td>-425586.14</td>\n",
       "      <td>NaN</td>\n",
       "      <td>NaN</td>\n",
       "      <td>1.00000</td>\n",
       "      <td>NaN</td>\n",
       "      <td>NaN</td>\n",
       "      <td>-168.376483</td>\n",
       "      <td>NaN</td>\n",
       "      <td>NaN</td>\n",
       "      <td>66.175663</td>\n",
       "      <td>NaN</td>\n",
       "      <td>NaN</td>\n",
       "    </tr>\n",
       "  </tbody>\n",
       "</table>\n",
       "</div>"
      ],
      "text/plain": [
       "                       Xcoord                   Ycoord                 \\\n",
       "Walrus                    271       281 322        271        281 322   \n",
       "DateTimeUTC                                                             \n",
       "2008-05-31 19:25:00  95616.95       NaN NaN -528324.60        NaN NaN   \n",
       "2008-06-01 03:24:00  84741.71       NaN NaN -511653.75        NaN NaN   \n",
       "2008-06-01 11:24:00  71834.45       NaN NaN -491176.95        NaN NaN   \n",
       "2008-06-01 19:24:00  65275.80       NaN NaN -478935.62        NaN NaN   \n",
       "2008-06-02 02:25:00       NaN  65600.95 NaN        NaN -417464.74 NaN   \n",
       "2008-06-02 03:24:00  69343.24       NaN NaN -473948.91        NaN NaN   \n",
       "2008-06-02 10:24:00       NaN  61574.27 NaN        NaN -421676.30 NaN   \n",
       "2008-06-02 11:24:00  72634.53       NaN NaN -457308.67        NaN NaN   \n",
       "2008-06-02 18:24:00       NaN  56545.12 NaN        NaN -426070.18 NaN   \n",
       "2008-06-02 19:24:00  73253.86       NaN NaN -425586.14        NaN NaN   \n",
       "\n",
       "                       Behav                Longitude                  \\\n",
       "Walrus                   271      281 322         271         281 322   \n",
       "DateTimeUTC                                                             \n",
       "2008-05-31 19:25:00  1.00900      NaN NaN -167.956095         NaN NaN   \n",
       "2008-06-01 03:24:00  1.00050      NaN NaN -168.177987         NaN NaN   \n",
       "2008-06-01 11:24:00  1.00625      NaN NaN -168.444360         NaN NaN   \n",
       "2008-06-01 19:24:00  1.02025      NaN NaN -168.580284         NaN NaN   \n",
       "2008-06-02 02:25:00      NaN  1.54400 NaN         NaN -168.541792 NaN   \n",
       "2008-06-02 03:24:00  1.00775      NaN NaN -168.489215         NaN NaN   \n",
       "2008-06-02 10:24:00      NaN  1.56700 NaN         NaN -168.633333 NaN   \n",
       "2008-06-02 11:24:00  1.00000      NaN NaN -168.408244         NaN NaN   \n",
       "2008-06-02 18:24:00      NaN  1.62975 NaN         NaN -168.746897 NaN   \n",
       "2008-06-02 19:24:00  1.00000      NaN NaN -168.376483         NaN NaN   \n",
       "\n",
       "                      Latitude                 \n",
       "Walrus                     271        281 322  \n",
       "DateTimeUTC                                    \n",
       "2008-05-31 19:25:00  65.248715        NaN NaN  \n",
       "2008-06-01 03:24:00  65.401217        NaN NaN  \n",
       "2008-06-01 11:24:00  65.587969        NaN NaN  \n",
       "2008-06-01 19:24:00  65.699143        NaN NaN  \n",
       "2008-06-02 02:25:00        NaN  66.250190 NaN  \n",
       "2008-06-02 03:24:00  65.742984        NaN NaN  \n",
       "2008-06-02 10:24:00        NaN  66.213262 NaN  \n",
       "2008-06-02 11:24:00  65.891423        NaN NaN  \n",
       "2008-06-02 18:24:00        NaN  66.174829 NaN  \n",
       "2008-06-02 19:24:00  66.175663        NaN NaN  "
      ]
     },
     "execution_count": 47,
     "metadata": {},
     "output_type": "execute_result"
    }
   ],
   "source": [
    "wd = df.pivot(index='DateTimeUTC', columns='Walrus') #row, column, values (optional)\n",
    "wd[:10]"
   ]
  },
  {
   "cell_type": "code",
   "execution_count": 48,
   "metadata": {
    "collapsed": false
   },
   "outputs": [
    {
     "data": {
      "text/html": [
       "<div>\n",
       "<table border=\"1\" class=\"dataframe\">\n",
       "  <thead>\n",
       "    <tr style=\"text-align: right;\">\n",
       "      <th>Walrus</th>\n",
       "      <th>271</th>\n",
       "      <th>281</th>\n",
       "      <th>322</th>\n",
       "    </tr>\n",
       "    <tr>\n",
       "      <th>DateTimeUTC</th>\n",
       "      <th></th>\n",
       "      <th></th>\n",
       "      <th></th>\n",
       "    </tr>\n",
       "  </thead>\n",
       "  <tbody>\n",
       "    <tr>\n",
       "      <th>2008-05-31 19:25:00</th>\n",
       "      <td>1.00900</td>\n",
       "      <td>NaN</td>\n",
       "      <td>NaN</td>\n",
       "    </tr>\n",
       "    <tr>\n",
       "      <th>2008-06-01 03:24:00</th>\n",
       "      <td>1.00050</td>\n",
       "      <td>NaN</td>\n",
       "      <td>NaN</td>\n",
       "    </tr>\n",
       "    <tr>\n",
       "      <th>2008-06-01 11:24:00</th>\n",
       "      <td>1.00625</td>\n",
       "      <td>NaN</td>\n",
       "      <td>NaN</td>\n",
       "    </tr>\n",
       "    <tr>\n",
       "      <th>2008-06-01 19:24:00</th>\n",
       "      <td>1.02025</td>\n",
       "      <td>NaN</td>\n",
       "      <td>NaN</td>\n",
       "    </tr>\n",
       "    <tr>\n",
       "      <th>2008-06-02 02:25:00</th>\n",
       "      <td>NaN</td>\n",
       "      <td>1.544</td>\n",
       "      <td>NaN</td>\n",
       "    </tr>\n",
       "  </tbody>\n",
       "</table>\n",
       "</div>"
      ],
      "text/plain": [
       "Walrus                   271    281  322\n",
       "DateTimeUTC                             \n",
       "2008-05-31 19:25:00  1.00900    NaN  NaN\n",
       "2008-06-01 03:24:00  1.00050    NaN  NaN\n",
       "2008-06-01 11:24:00  1.00625    NaN  NaN\n",
       "2008-06-01 19:24:00  1.02025    NaN  NaN\n",
       "2008-06-02 02:25:00      NaN  1.544  NaN"
      ]
     },
     "execution_count": 48,
     "metadata": {},
     "output_type": "execute_result"
    }
   ],
   "source": [
    "wd['Behav'][:5]"
   ]
  },
  {
   "cell_type": "code",
   "execution_count": 49,
   "metadata": {
    "collapsed": false
   },
   "outputs": [
    {
     "data": {
      "text/plain": [
       "DateTimeUTC\n",
       "2008-05-31 19:25:00      NaN\n",
       "2008-06-01 03:24:00      NaN\n",
       "2008-06-01 11:24:00      NaN\n",
       "2008-06-01 19:24:00      NaN\n",
       "2008-06-02 02:25:00    1.544\n",
       "Name: 281, dtype: float64"
      ]
     },
     "execution_count": 49,
     "metadata": {},
     "output_type": "execute_result"
    }
   ],
   "source": [
    "wd['Behav'][281][:5]"
   ]
  },
  {
   "cell_type": "markdown",
   "metadata": {
    "slideshow": {
     "slide_type": "slide"
    }
   },
   "source": [
    "## Simple Plotting\n",
    "\n",
    "- Plot the behavior of each walrus over time"
   ]
  },
  {
   "cell_type": "code",
   "execution_count": 58,
   "metadata": {
    "collapsed": false
   },
   "outputs": [
    {
     "data": {
      "text/plain": [
       "<matplotlib.axes._subplots.AxesSubplot at 0x10e4409d0>"
      ]
     },
     "execution_count": 58,
     "metadata": {},
     "output_type": "execute_result"
    },
    {
     "data": {
      "image/png": "[encoded data removed]",
      "text/plain": [
       "<matplotlib.figure.Figure at 0x10e8d7bd0>"
      ]
     },
     "metadata": {},
     "output_type": "display_data"
    }
   ],
   "source": [
    "wd['Behav'].plot(style=['bo','rx','gv'])"
   ]
  },
  {
   "cell_type": "code",
   "execution_count": 60,
   "metadata": {
    "collapsed": false
   },
   "outputs": [
    {
     "data": {
      "text/plain": [
       "<matplotlib.figure.Figure at 0x10e900510>"
      ]
     },
     "metadata": {},
     "output_type": "display_data"
    }
   ],
   "source": [
    "plt.savefig('walrus_behav.png')"
   ]
  },
  {
   "cell_type": "code",
   "execution_count": 61,
   "metadata": {
    "collapsed": false
   },
   "outputs": [
    {
     "name": "stdout",
     "output_type": "stream",
     "text": [
      "01_exploratory_pandas.ipynb\t\t06_CSV_to_NetCDF_Solution.ipynb\r\n",
      "01_introduction-IPython-notebook.ipynb\tWalrus_Data\r\n",
      "01_introduction-IPython-notebook.pdf\tdata_overview.png\r\n",
      "01_introduction-IPython-notebook_files\tipython-notebook-keyboard.png\r\n",
      "02_Data_Transfer.pdf\t\t\tipython-notebook-sharing.png\r\n",
      "03_HPC_File_Systems.pdf\t\t\tipython-notebook.png\r\n",
      "04_python_reading-plotting.ipynb\trc_logo.png\r\n",
      "05_Data_Conversion_Cleaning.pdf\t\ttraditional_python.png\r\n",
      "06_CSV_to_NetCDF_Exercise.ipynb\t\twalrus_behav.png\r\n"
     ]
    }
   ],
   "source": [
    "!ls"
   ]
  },
  {
   "cell_type": "code",
   "execution_count": null,
   "metadata": {
    "collapsed": true
   },
   "outputs": [],
   "source": []
  }
 ],
 "metadata": {
  "celltoolbar": "Slideshow",
  "kernelspec": {
   "display_name": "Python 2",
   "language": "python",
   "name": "python2"
  },
  "language_info": {
   "codemirror_mode": {
    "name": "ipython",
    "version": 2
   },
   "file_extension": ".py",
   "mimetype": "text/x-python",
   "name": "python",
   "nbconvert_exporter": "python",
   "pygments_lexer": "ipython2",
   "version": "2.7.10"
  }
 },
 "nbformat": 4,
 "nbformat_minor": 0
}
