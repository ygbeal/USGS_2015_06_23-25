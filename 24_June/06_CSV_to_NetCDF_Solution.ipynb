{
 "cells": [
  {
   "cell_type": "markdown",
   "metadata": {},
   "source": [
    "<img src=\"rc_logo.png\">\n",
    "\n",
    "#USGS Data Conversion and Cleaning#\n",
    "<hr>\n",
    "\n",
    "\n",
    "##Converting a CSV text file to a NetCDF file in python.##\n",
    "Wednesday 24th of June 2015\n",
    "<hr>\n",
    "<ol>\n",
    "<li>[Import the modules](#import)</li>\n",
    "<li>[Read the CVS](#csv)</li>\n",
    "<li>[Inspect the data](#inspect)</li>\n",
    "<li>[Create a NetCDF file](#netcdf)</li>\n",
    "<li>[Add metadata](#meta)</li>\n",
    "<li>[Create the variables](#vars)</li>\n",
    "<li>[Write the data](#data)</li>\n",
    "<li>[Close the file](#close)</li>\n",
    "</ol>"
   ]
  },
  {
   "cell_type": "markdown",
   "metadata": {},
   "source": [
    "<a id='import'></a>"
   ]
  },
  {
   "cell_type": "markdown",
   "metadata": {},
   "source": [
    "##Import all the needed modules"
   ]
  },
  {
   "cell_type": "code",
   "execution_count": 1,
   "metadata": {
    "collapsed": true
   },
   "outputs": [],
   "source": [
    "import numpy as np\n",
    "import netCDF4 as nc\n",
    "import pandas as pd\n",
    "import datetime as dt"
   ]
  },
  {
   "cell_type": "markdown",
   "metadata": {},
   "source": [
    "<a id='csv'></a>"
   ]
  },
  {
   "cell_type": "markdown",
   "metadata": {
    "collapsed": true
   },
   "source": [
    "##Read in the CVS file using pandas"
   ]
  },
  {
   "cell_type": "code",
   "execution_count": 2,
   "metadata": {
    "collapsed": true
   },
   "outputs": [],
   "source": [
    "data = pd.read_csv('Walruses.csv', thousands=',')"
   ]
  },
  {
   "cell_type": "code",
   "execution_count": 3,
   "metadata": {
    "collapsed": false
   },
   "outputs": [
    {
     "name": "stdout",
     "output_type": "stream",
     "text": [
      "0    1212261900\n",
      "1    1212290640\n",
      "Name: time, dtype: float64\n"
     ]
    }
   ],
   "source": [
    "epoch = dt.datetime(1970,1,1)\n",
    "data['time'] = [t.total_seconds() for t in (pd.to_datetime(data['DateTimeUTC']) - pd.to_datetime(epoch))]\n",
    "print(data['time'][0:2])"
   ]
  },
  {
   "cell_type": "markdown",
   "metadata": {},
   "source": [
    "<a id='inspect'></a>"
   ]
  },
  {
   "cell_type": "markdown",
   "metadata": {},
   "source": [
    "##Quickly inspect the data for correctness"
   ]
  },
  {
   "cell_type": "code",
   "execution_count": 4,
   "metadata": {
    "collapsed": false
   },
   "outputs": [
    {
     "data": {
      "text/html": [
       "<div style=\"max-height:1000px;max-width:1500px;overflow:auto;\">\n",
       "<table border=\"1\" class=\"dataframe\">\n",
       "  <thead>\n",
       "    <tr style=\"text-align: right;\">\n",
       "      <th></th>\n",
       "      <th>Walrus</th>\n",
       "      <th>Longitude</th>\n",
       "      <th>Latitude</th>\n",
       "    </tr>\n",
       "  </thead>\n",
       "  <tbody>\n",
       "    <tr>\n",
       "      <th>2</th>\n",
       "      <td>271</td>\n",
       "      <td>-168.444360</td>\n",
       "      <td>65.587969</td>\n",
       "    </tr>\n",
       "    <tr>\n",
       "      <th>4</th>\n",
       "      <td>271</td>\n",
       "      <td>-168.489215</td>\n",
       "      <td>65.742984</td>\n",
       "    </tr>\n",
       "    <tr>\n",
       "      <th>6</th>\n",
       "      <td>271</td>\n",
       "      <td>-168.376483</td>\n",
       "      <td>66.175663</td>\n",
       "    </tr>\n",
       "    <tr>\n",
       "      <th>8</th>\n",
       "      <td>271</td>\n",
       "      <td>-168.265869</td>\n",
       "      <td>66.557191</td>\n",
       "    </tr>\n",
       "  </tbody>\n",
       "</table>\n",
       "</div>"
      ],
      "text/plain": [
       "   Walrus   Longitude   Latitude\n",
       "2     271 -168.444360  65.587969\n",
       "4     271 -168.489215  65.742984\n",
       "6     271 -168.376483  66.175663\n",
       "8     271 -168.265869  66.557191"
      ]
     },
     "execution_count": 4,
     "metadata": {},
     "output_type": "execute_result"
    }
   ],
   "source": [
    "longLat = data[['Walrus', 'Longitude', 'Latitude']]\n",
    "longLat[2:10:2]"
   ]
  },
  {
   "cell_type": "code",
   "execution_count": 5,
   "metadata": {
    "collapsed": false
   },
   "outputs": [
    {
     "name": "stdout",
     "output_type": "stream",
     "text": [
      "   Walrus      DateTimeUTC    Xcoord     Ycoord    Behav   Longitude  \\\n",
      "0     271  5/31/2008 19:25  95616.95 -528324.60  1.00900 -167.956095   \n",
      "1     271    6/1/2008 3:24  84741.71 -511653.75  1.00050 -168.177987   \n",
      "2     271   6/1/2008 11:24  71834.45 -491176.95  1.00625 -168.444360   \n",
      "3     271   6/1/2008 19:24  65275.80 -478935.62  1.02025 -168.580284   \n",
      "\n",
      "    Latitude        time  \n",
      "0  65.248715  1212261900  \n",
      "1  65.401217  1212290640  \n",
      "2  65.587969  1212319440  \n",
      "3  65.699143  1212348240  \n"
     ]
    }
   ],
   "source": [
    "walrus_271 = data[data.Walrus == 271]\n",
    "walrus_281 = data[data.Walrus == 281]\n",
    "walrus_322 = data[data.Walrus == 322]\n",
    "print(walrus_271.head(4))"
   ]
  },
  {
   "cell_type": "markdown",
   "metadata": {},
   "source": [
    "<a id='netcdf'></a>"
   ]
  },
  {
   "cell_type": "markdown",
   "metadata": {},
   "source": [
    "##Create a NetCDF"
   ]
  },
  {
   "cell_type": "code",
   "execution_count": 6,
   "metadata": {
    "collapsed": false
   },
   "outputs": [
    {
     "name": "stdout",
     "output_type": "stream",
     "text": [
      "<type 'netCDF4.Dataset'>\n",
      "root group (NETCDF4 data model, file format HDF5):\n",
      "    dimensions(sizes): \n",
      "    variables(dimensions): \n",
      "    groups: \n",
      "\n"
     ]
    }
   ],
   "source": [
    "ncf = nc.Dataset('Walrus_271.nc', mode='w')\n",
    "print(ncf)"
   ]
  },
  {
   "cell_type": "markdown",
   "metadata": {},
   "source": [
    "<a id='meta'></a>"
   ]
  },
  {
   "cell_type": "markdown",
   "metadata": {},
   "source": [
    "##Create the metadata, attributes and conventions"
   ]
  },
  {
   "cell_type": "code",
   "execution_count": 7,
   "metadata": {
    "collapsed": false
   },
   "outputs": [],
   "source": [
    "ncf.title        = ''\n",
    "ncf.history      = ''\n",
    "ncf.comment      = ''\n",
    "ncf.source       = ''\n",
    "ncf.references   = ''\n",
    "ncf.Conventions  = \"CF-1.6\"\n",
    "ncf.date_created = dt.datetime.utcnow().strftime('%d/%m/%Y %H:%M:%S.%f')\n",
    "ncf.institution  = 'USGS'"
   ]
  },
  {
   "cell_type": "code",
   "execution_count": 8,
   "metadata": {
    "collapsed": false
   },
   "outputs": [
    {
     "data": {
      "text/plain": [
       "<type 'netCDF4.Dimension'>: name = 'latitude', size = 314"
      ]
     },
     "execution_count": 8,
     "metadata": {},
     "output_type": "execute_result"
    }
   ],
   "source": [
    "ncf.createDimension('time', None)\n",
    "ncf.createDimension('longitude', len(walrus_271[['Longitude']]))\n",
    "ncf.createDimension('latitude', len(walrus_271[['Latitude']]))"
   ]
  },
  {
   "cell_type": "markdown",
   "metadata": {},
   "source": [
    "<a id=\"vars\"></a>"
   ]
  },
  {
   "cell_type": "markdown",
   "metadata": {},
   "source": [
    "##Create the variables"
   ]
  },
  {
   "cell_type": "code",
   "execution_count": 9,
   "metadata": {
    "collapsed": true
   },
   "outputs": [],
   "source": [
    "time = ncf.createVariable('time', 'f8', ('time',), zlib=True)\n",
    "time.units = 'seconds since 1970-01-01 00:00:00 UTC'\n",
    "time.standard_name = 'time'\n",
    "time.long_name = 'Epoch Time'"
   ]
  },
  {
   "cell_type": "code",
   "execution_count": 10,
   "metadata": {
    "collapsed": true
   },
   "outputs": [],
   "source": [
    "lon = ncf.createVariable('longitude', 'f8', ('longitude',), zlib=True, least_significant_digit=8)\n",
    "lon.units = 'degrees_east'\n",
    "lon.standard_name = 'longitude'\n",
    "lon.long_name = 'Longitude'"
   ]
  },
  {
   "cell_type": "code",
   "execution_count": 11,
   "metadata": {
    "collapsed": false
   },
   "outputs": [],
   "source": [
    "lat = ncf.createVariable('latitude', 'f8', ('latitude',), zlib=True, least_significant_digit=8)\n",
    "lat.units = 'degrees_north'\n",
    "lat.standard_name = 'latitude'\n",
    "lat.long_name = 'Latitude'"
   ]
  },
  {
   "cell_type": "markdown",
   "metadata": {},
   "source": [
    "<a id='data'><a>"
   ]
  },
  {
   "cell_type": "markdown",
   "metadata": {},
   "source": [
    "##Write the data to the NetCDF file"
   ]
  },
  {
   "cell_type": "code",
   "execution_count": 12,
   "metadata": {
    "collapsed": false
   },
   "outputs": [],
   "source": [
    "w271 = ncf.createVariable('walrus_271', 'u2', ('time', 'latitude', 'longitude'), \n",
    "                             zlib=True)\n",
    "w271[:] = 1\n",
    "w271.id = 271\n",
    "w271.standard_name = 'walrus_271'\n",
    "w271.long_name = 'Rufus the Walrus, 271'"
   ]
  },
  {
   "cell_type": "code",
   "execution_count": 13,
   "metadata": {
    "collapsed": false
   },
   "outputs": [],
   "source": [
    "ncf.variables['time'][:] = walrus_271['time'].values\n",
    "ncf.variables['longitude'][:] = walrus_271['Longitude'].values\n",
    "ncf.variables['latitude'][:] = walrus_271['Latitude'].values"
   ]
  },
  {
   "cell_type": "markdown",
   "metadata": {},
   "source": [
    "<a id='close'></a>"
   ]
  },
  {
   "cell_type": "markdown",
   "metadata": {},
   "source": [
    "##Close the NetCDF"
   ]
  },
  {
   "cell_type": "code",
   "execution_count": 14,
   "metadata": {
    "collapsed": true
   },
   "outputs": [],
   "source": [
    "ncf.close()"
   ]
  },
  {
   "cell_type": "code",
   "execution_count": null,
   "metadata": {
    "collapsed": true
   },
   "outputs": [],
   "source": []
  }
 ],
 "metadata": {
  "kernelspec": {
   "display_name": "Python 2",
   "language": "python",
   "name": "python2"
  },
  "language_info": {
   "codemirror_mode": {
    "name": "ipython",
    "version": 2
   },
   "file_extension": ".py",
   "mimetype": "text/x-python",
   "name": "python",
   "nbconvert_exporter": "python",
   "pygments_lexer": "ipython2",
   "version": "2.7.10"
  }
 },
 "nbformat": 4,
 "nbformat_minor": 0
}
