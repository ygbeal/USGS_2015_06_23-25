{
 "cells": [
  {
   "cell_type": "markdown",
   "metadata": {},
   "source": [
    "<img src=\"rc_logo.png\">\n",
    "\n",
    "#USGS Data Conversion and Cleaning#\n",
    "<hr>\n",
    "\n",
    "\n",
    "##Converting a CSV text file to a NetCDF file in python.##\n",
    "Wednesday 24th of June 2015\n",
    "<hr>\n",
    "<ol>\n",
    "<li>[Import the modules](#import)</li>\n",
    "<li>[Read the CVS](#csv)</li>\n",
    "<li>[Inspect the data](#inspect)</li>\n",
    "<li>[Create a NetCDF file](#netcdf)</li>\n",
    "<li>[Add metadata](#meta)</li>\n",
    "<li>[Create the variables](#vars)</li>\n",
    "<li>[Write the data](#data)</li>\n",
    "<li>[Close the file](#close)</li>\n",
    "</ol>"
   ]
  },
  {
   "cell_type": "markdown",
   "metadata": {},
   "source": [
    "<a id='import'></a>"
   ]
  },
  {
   "cell_type": "markdown",
   "metadata": {},
   "source": [
    "##Import all the needed modules"
   ]
  },
  {
   "cell_type": "code",
   "execution_count": null,
   "metadata": {
    "collapsed": true
   },
   "outputs": [],
   "source": [
    "import numpy as np\n",
    "import netCDF4 as nc\n",
    "import pandas as pd\n",
    "import datetime as dt"
   ]
  },
  {
   "cell_type": "markdown",
   "metadata": {},
   "source": [
    "<a id='csv'></a>"
   ]
  },
  {
   "cell_type": "markdown",
   "metadata": {
    "collapsed": true
   },
   "source": [
    "##Read in the CVS file using pandas"
   ]
  },
  {
   "cell_type": "code",
   "execution_count": null,
   "metadata": {
    "collapsed": true
   },
   "outputs": [],
   "source": [
    "data = pd.read_csv('Walruses.csv', parse_dates=True, thousands=',')"
   ]
  },
  {
   "cell_type": "code",
   "execution_count": null,
   "metadata": {
    "collapsed": false
   },
   "outputs": [],
   "source": [
    "epoch = dt.datetime(1970,1,1)\n",
    "data['time'] = [ t.total_seconds() for t in (pd.to_datetime(data['DateTimeUTC']) - pd.to_datetime(epoch))]\n",
    "print(data['time'][0:2])"
   ]
  },
  {
   "cell_type": "markdown",
   "metadata": {},
   "source": [
    "<a id='inspect'></a>"
   ]
  },
  {
   "cell_type": "markdown",
   "metadata": {},
   "source": [
    "##Quickly inspect the data for correctness"
   ]
  },
  {
   "cell_type": "code",
   "execution_count": null,
   "metadata": {
    "collapsed": false
   },
   "outputs": [],
   "source": [
    "longLat = data[['Walrus', 'Longitude', 'Latitude']]\n",
    "longLat[2:10:2]"
   ]
  },
  {
   "cell_type": "code",
   "execution_count": null,
   "metadata": {
    "collapsed": false
   },
   "outputs": [],
   "source": [
    "walrus_271 = data[data.Walrus == 271]\n",
    "walrus_281 = data[data.Walrus == 281]\n",
    "walrus_322 = data[data.Walrus == 322]\n",
    "print(walrus_271.head(4))"
   ]
  },
  {
   "cell_type": "markdown",
   "metadata": {},
   "source": [
    "<a id='netcdf'></a>"
   ]
  },
  {
   "cell_type": "markdown",
   "metadata": {},
   "source": [
    "##Create a NetCDF"
   ]
  },
  {
   "cell_type": "code",
   "execution_count": null,
   "metadata": {
    "collapsed": false
   },
   "outputs": [],
   "source": [
    "ncf = nc.Dataset('Walrus_271.nc', mode='w')\n",
    "print(ncf)"
   ]
  },
  {
   "cell_type": "markdown",
   "metadata": {},
   "source": [
    "<a id='meta'></a>"
   ]
  },
  {
   "cell_type": "markdown",
   "metadata": {},
   "source": [
    "##Create the metadata, attributes and conventions"
   ]
  },
  {
   "cell_type": "code",
   "execution_count": null,
   "metadata": {
    "collapsed": false
   },
   "outputs": [],
   "source": [
    "ncf.title        = ''\n",
    "ncf.history      = ''\n",
    "ncf.comment      = ''\n",
    "ncf.source       = ''\n",
    "ncf.references   = ''\n",
    "ncf.Conventions  = \"CF-1.6\"\n",
    "ncf.date_created = dt.datetime.utcnow().strftime('%d/%m/%Y %H:%M:%S.%f')\n",
    "ncf.institution  = 'USGS'"
   ]
  },
  {
   "cell_type": "code",
   "execution_count": null,
   "metadata": {
    "collapsed": false
   },
   "outputs": [],
   "source": [
    "ncf.createDimension('time', None)\n",
    "ncf.createDimension('longitude', len(walrus_271[['Longitude']]))\n",
    "ncf.createDimension('latitude', len(walrus_271[['Latitude']]))"
   ]
  },
  {
   "cell_type": "markdown",
   "metadata": {},
   "source": [
    "<a id=\"vars\"></a>"
   ]
  },
  {
   "cell_type": "markdown",
   "metadata": {},
   "source": [
    "##Create the variables"
   ]
  },
  {
   "cell_type": "code",
   "execution_count": null,
   "metadata": {
    "collapsed": true
   },
   "outputs": [],
   "source": [
    "time = ncf.createVariable('time', 'f8', ('time',), zlib=True)\n",
    "time.units = 'seconds since 1970-01-01 00:00:00 UTC'\n",
    "time.standard_name = 'time'\n",
    "time.long_name = 'Epoch Time'"
   ]
  },
  {
   "cell_type": "code",
   "execution_count": null,
   "metadata": {
    "collapsed": true
   },
   "outputs": [],
   "source": [
    "lon = ncf.createVariable('longitude', 'f8', ('longitude',), zlib=True, least_significant_digit=8)\n",
    "lon.units = 'degrees_east'\n",
    "lon.standard_name = 'longitude'\n",
    "lon.long_name = 'Longitude'"
   ]
  },
  {
   "cell_type": "code",
   "execution_count": null,
   "metadata": {
    "collapsed": false
   },
   "outputs": [],
   "source": [
    "lat = ncf.createVariable('latitude', 'f8', ('latitude',), zlib=True, least_significant_digit=8)\n",
    "lat.units = 'degrees_north'\n",
    "lat.standard_name = 'latitude'\n",
    "lat.long_name = 'Latitude'"
   ]
  },
  {
   "cell_type": "code",
   "execution_count": null,
   "metadata": {
    "collapsed": true
   },
   "outputs": [],
   "source": [
    "w271 = ncf.createVariable('walrus_271', 'f8', ('time', 'latitude', 'longitude'), \n",
    "                        zlib=True, least_significant_digit=8)"
   ]
  },
  {
   "cell_type": "markdown",
   "metadata": {},
   "source": [
    "<a id='data'><a>"
   ]
  },
  {
   "cell_type": "markdown",
   "metadata": {},
   "source": [
    "##Write the data to the NetCDF file"
   ]
  },
  {
   "cell_type": "code",
   "execution_count": null,
   "metadata": {
    "collapsed": false
   },
   "outputs": [],
   "source": [
    "w271 = ncf.createVariable('walrus_271', 'f8', ('time', 'latitude', 'longitude'), \n",
    "                             zlib=True, least_significant_digit=8)\n",
    "w271.id = 271\n",
    "w271.standard_name = 'walrus_271'\n",
    "w271.long_name = 'Rufus the Walrus, 271'"
   ]
  },
  {
   "cell_type": "code",
   "execution_count": null,
   "metadata": {
    "collapsed": false
   },
   "outputs": [],
   "source": [
    "ncf.variables['time'][:] = walrus_271['time'].values\n",
    "ncf.variables['longitude'][:] = walrus_271['Longitude'].values\n",
    "ncf.variables['latitude'][:] = walrus_271['Latitude'].values"
   ]
  },
  {
   "cell_type": "markdown",
   "metadata": {},
   "source": [
    "<a id='close'></a>"
   ]
  },
  {
   "cell_type": "markdown",
   "metadata": {},
   "source": [
    "##Close the NetCDF"
   ]
  },
  {
   "cell_type": "code",
   "execution_count": null,
   "metadata": {
    "collapsed": true
   },
   "outputs": [],
   "source": [
    "ncf.close()"
   ]
  },
  {
   "cell_type": "code",
   "execution_count": null,
   "metadata": {
    "collapsed": true
   },
   "outputs": [],
   "source": []
  }
 ],
 "metadata": {
  "kernelspec": {
   "display_name": "Python 2",
   "language": "python",
   "name": "python2"
  },
  "language_info": {
   "codemirror_mode": {
    "name": "ipython",
    "version": 2
   },
   "file_extension": ".py",
   "mimetype": "text/x-python",
   "name": "python",
   "nbconvert_exporter": "python",
   "pygments_lexer": "ipython2",
   "version": "2.7.10"
  }
 },
 "nbformat": 4,
 "nbformat_minor": 0
}
