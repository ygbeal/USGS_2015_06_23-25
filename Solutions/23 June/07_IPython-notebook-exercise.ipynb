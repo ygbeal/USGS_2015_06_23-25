{
 "cells": [
  {
   "cell_type": "markdown",
   "metadata": {},
   "source": [
    "<img src='../../Presentations/rc_logo.png' style=\"height:75px\">"
   ]
  },
  {
   "cell_type": "markdown",
   "metadata": {},
   "source": [
    "# In Lab Exercise\n",
    "\n",
    "Use the Walrusses.csv data set to do the following:\n",
    "- Plot the behavior of Walrus 281\n",
    "- For Walrus 281 plot the Xcoord and Ycoord\n",
    "- Compute the average traveling distance between data points for this walrus"
   ]
  },
  {
   "cell_type": "markdown",
   "metadata": {},
   "source": [
    "## Reading in the data and plotting the behavior\n",
    "\n",
    "- Open CSV file with Pandas\n",
    "- Extracting Walrus 281 from the data frame\n",
    "- Plot the behavior"
   ]
  },
  {
   "cell_type": "code",
   "execution_count": 2,
   "metadata": {
    "collapsed": true
   },
   "outputs": [],
   "source": [
    "import os\n",
    "import numpy as np\n",
    "import pandas as pd\n",
    "import matplotlib.pyplot as plt\n",
    "%matplotlib inline"
   ]
  },
  {
   "cell_type": "code",
   "execution_count": 3,
   "metadata": {
    "collapsed": false
   },
   "outputs": [
    {
     "data": {
      "text/html": [
       "<div>\n",
       "<table border=\"1\" class=\"dataframe\">\n",
       "  <thead>\n",
       "    <tr style=\"text-align: right;\">\n",
       "      <th></th>\n",
       "      <th>Walrus</th>\n",
       "      <th>Xcoord</th>\n",
       "      <th>Ycoord</th>\n",
       "      <th>Behav</th>\n",
       "      <th>Longitude</th>\n",
       "      <th>Latitude</th>\n",
       "    </tr>\n",
       "    <tr>\n",
       "      <th>DateTimeUTC</th>\n",
       "      <th></th>\n",
       "      <th></th>\n",
       "      <th></th>\n",
       "      <th></th>\n",
       "      <th></th>\n",
       "      <th></th>\n",
       "    </tr>\n",
       "  </thead>\n",
       "  <tbody>\n",
       "    <tr>\n",
       "      <th>2008-05-31 19:25:00</th>\n",
       "      <td>271</td>\n",
       "      <td>95616.95</td>\n",
       "      <td>-528324.60</td>\n",
       "      <td>1.00900</td>\n",
       "      <td>-167.956095</td>\n",
       "      <td>65.248715</td>\n",
       "    </tr>\n",
       "    <tr>\n",
       "      <th>2008-06-01 03:24:00</th>\n",
       "      <td>271</td>\n",
       "      <td>84741.71</td>\n",
       "      <td>-511653.75</td>\n",
       "      <td>1.00050</td>\n",
       "      <td>-168.177987</td>\n",
       "      <td>65.401217</td>\n",
       "    </tr>\n",
       "    <tr>\n",
       "      <th>2008-06-01 11:24:00</th>\n",
       "      <td>271</td>\n",
       "      <td>71834.45</td>\n",
       "      <td>-491176.95</td>\n",
       "      <td>1.00625</td>\n",
       "      <td>-168.444360</td>\n",
       "      <td>65.587969</td>\n",
       "    </tr>\n",
       "    <tr>\n",
       "      <th>2008-06-01 19:24:00</th>\n",
       "      <td>271</td>\n",
       "      <td>65275.80</td>\n",
       "      <td>-478935.62</td>\n",
       "      <td>1.02025</td>\n",
       "      <td>-168.580284</td>\n",
       "      <td>65.699143</td>\n",
       "    </tr>\n",
       "    <tr>\n",
       "      <th>2008-06-02 03:24:00</th>\n",
       "      <td>271</td>\n",
       "      <td>69343.24</td>\n",
       "      <td>-473948.91</td>\n",
       "      <td>1.00775</td>\n",
       "      <td>-168.489215</td>\n",
       "      <td>65.742984</td>\n",
       "    </tr>\n",
       "  </tbody>\n",
       "</table>\n",
       "</div>"
      ],
      "text/plain": [
       "                     Walrus    Xcoord     Ycoord    Behav   Longitude  \\\n",
       "DateTimeUTC                                                             \n",
       "2008-05-31 19:25:00     271  95616.95 -528324.60  1.00900 -167.956095   \n",
       "2008-06-01 03:24:00     271  84741.71 -511653.75  1.00050 -168.177987   \n",
       "2008-06-01 11:24:00     271  71834.45 -491176.95  1.00625 -168.444360   \n",
       "2008-06-01 19:24:00     271  65275.80 -478935.62  1.02025 -168.580284   \n",
       "2008-06-02 03:24:00     271  69343.24 -473948.91  1.00775 -168.489215   \n",
       "\n",
       "                      Latitude  \n",
       "DateTimeUTC                     \n",
       "2008-05-31 19:25:00  65.248715  \n",
       "2008-06-01 03:24:00  65.401217  \n",
       "2008-06-01 11:24:00  65.587969  \n",
       "2008-06-01 19:24:00  65.699143  \n",
       "2008-06-02 03:24:00  65.742984  "
      ]
     },
     "execution_count": 3,
     "metadata": {},
     "output_type": "execute_result"
    }
   ],
   "source": [
    "filename = os.path.join('Walrus_Data','Walruses.csv')\n",
    "df = pd.read_csv(filename, index_col='DateTimeUTC', parse_dates=True, thousands=',')\n",
    "df.head(5)"
   ]
  },
  {
   "cell_type": "code",
   "execution_count": 4,
   "metadata": {
    "collapsed": false
   },
   "outputs": [
    {
     "data": {
      "text/html": [
       "<div>\n",
       "<table border=\"1\" class=\"dataframe\">\n",
       "  <thead>\n",
       "    <tr style=\"text-align: right;\">\n",
       "      <th></th>\n",
       "      <th>Walrus</th>\n",
       "      <th>Xcoord</th>\n",
       "      <th>Ycoord</th>\n",
       "      <th>Behav</th>\n",
       "      <th>Longitude</th>\n",
       "      <th>Latitude</th>\n",
       "    </tr>\n",
       "    <tr>\n",
       "      <th>DateTimeUTC</th>\n",
       "      <th></th>\n",
       "      <th></th>\n",
       "      <th></th>\n",
       "      <th></th>\n",
       "      <th></th>\n",
       "      <th></th>\n",
       "    </tr>\n",
       "  </thead>\n",
       "  <tbody>\n",
       "    <tr>\n",
       "      <th>2008-06-02 02:25:00</th>\n",
       "      <td>281</td>\n",
       "      <td>65600.95</td>\n",
       "      <td>-417464.74</td>\n",
       "      <td>1.54400</td>\n",
       "      <td>-168.541792</td>\n",
       "      <td>66.250190</td>\n",
       "    </tr>\n",
       "    <tr>\n",
       "      <th>2008-06-02 10:24:00</th>\n",
       "      <td>281</td>\n",
       "      <td>61574.27</td>\n",
       "      <td>-421676.30</td>\n",
       "      <td>1.56700</td>\n",
       "      <td>-168.633333</td>\n",
       "      <td>66.213262</td>\n",
       "    </tr>\n",
       "    <tr>\n",
       "      <th>2008-06-02 18:24:00</th>\n",
       "      <td>281</td>\n",
       "      <td>56545.12</td>\n",
       "      <td>-426070.18</td>\n",
       "      <td>1.62975</td>\n",
       "      <td>-168.746897</td>\n",
       "      <td>66.174829</td>\n",
       "    </tr>\n",
       "    <tr>\n",
       "      <th>2008-06-03 02:24:00</th>\n",
       "      <td>281</td>\n",
       "      <td>52201.01</td>\n",
       "      <td>-430192.25</td>\n",
       "      <td>1.70475</td>\n",
       "      <td>-168.844846</td>\n",
       "      <td>66.138634</td>\n",
       "    </tr>\n",
       "  </tbody>\n",
       "</table>\n",
       "</div>"
      ],
      "text/plain": [
       "                     Walrus    Xcoord     Ycoord    Behav   Longitude  \\\n",
       "DateTimeUTC                                                             \n",
       "2008-06-02 02:25:00     281  65600.95 -417464.74  1.54400 -168.541792   \n",
       "2008-06-02 10:24:00     281  61574.27 -421676.30  1.56700 -168.633333   \n",
       "2008-06-02 18:24:00     281  56545.12 -426070.18  1.62975 -168.746897   \n",
       "2008-06-03 02:24:00     281  52201.01 -430192.25  1.70475 -168.844846   \n",
       "\n",
       "                      Latitude  \n",
       "DateTimeUTC                     \n",
       "2008-06-02 02:25:00  66.250190  \n",
       "2008-06-02 10:24:00  66.213262  \n",
       "2008-06-02 18:24:00  66.174829  \n",
       "2008-06-03 02:24:00  66.138634  "
      ]
     },
     "execution_count": 4,
     "metadata": {},
     "output_type": "execute_result"
    }
   ],
   "source": [
    "w281 = df[df.Walrus == 281]\n",
    "w281.head(4)"
   ]
  },
  {
   "cell_type": "code",
   "execution_count": 14,
   "metadata": {
    "collapsed": false
   },
   "outputs": [
    {
     "data": {
      "text/plain": [
       "<matplotlib.legend.Legend at 0x1080a58d0>"
      ]
     },
     "execution_count": 14,
     "metadata": {},
     "output_type": "execute_result"
    },
    {
     "data": {
      "image/png": "[encoded data removed]",
      "text/plain": [
       "<matplotlib.figure.Figure at 0x1080c2fd0>"
      ]
     },
     "metadata": {},
     "output_type": "display_data"
    }
   ],
   "source": [
    "w281['Behav'].plot(style='bo', label='Walrus 281', title='Argos tracking of walrus behavior')\n",
    "plt.ylabel(\"behavior\")\n",
    "plt.legend()\n",
    "plt.grid()"
   ]
  },
  {
   "cell_type": "markdown",
   "metadata": {},
   "source": [
    "## Plotting the Xcoord and Ycoord"
   ]
  },
  {
   "cell_type": "code",
   "execution_count": 21,
   "metadata": {
    "collapsed": false
   },
   "outputs": [
    {
     "data": {
      "text/plain": [
       "<matplotlib.axes._subplots.AxesSubplot at 0x10daf9690>"
      ]
     },
     "execution_count": 21,
     "metadata": {},
     "output_type": "execute_result"
    },
    {
     "data": {
      "image/png": "[encoded data removed]",
      "text/plain": [
       "<matplotlib.figure.Figure at 0x10dbe0910>"
      ]
     },
     "metadata": {},
     "output_type": "display_data"
    }
   ],
   "source": [
    "w281[['Xcoord', 'Ycoord']].plot(style=['gx--', 'rv-.'])"
   ]
  },
  {
   "cell_type": "markdown",
   "metadata": {},
   "source": [
    "## Average travel distance\n",
    "\n",
    "- compute distance from Longitude and Latitude\n",
    "    - write a function dist_lat_long()\n",
    "    - Function should work on scalars and vectors"
   ]
  },
  {
   "cell_type": "code",
   "execution_count": null,
   "metadata": {
    "collapsed": true
   },
   "outputs": [],
   "source": []
  }
 ],
 "metadata": {
  "kernelspec": {
   "display_name": "Python 2",
   "language": "python",
   "name": "python2"
  },
  "language_info": {
   "codemirror_mode": {
    "name": "ipython",
    "version": 2
   },
   "file_extension": ".py",
   "mimetype": "text/x-python",
   "name": "python",
   "nbconvert_exporter": "python",
   "pygments_lexer": "ipython2",
   "version": "2.7.10"
  }
 },
 "nbformat": 4,
 "nbformat_minor": 0
}
