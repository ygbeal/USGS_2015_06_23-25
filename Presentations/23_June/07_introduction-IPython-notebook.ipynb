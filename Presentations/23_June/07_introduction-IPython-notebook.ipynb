{
 "cells": [
  {
   "cell_type": "markdown",
   "metadata": {
    "slideshow": {
     "slide_type": "slide"
    }
   },
   "source": [
    "<img src='https://www.rc.colorado.edu/sites/all/themes/research/logo.png' style=\"height:75px\">"
   ]
  },
  {
   "cell_type": "markdown",
   "metadata": {
    "slideshow": {
     "slide_type": "slide"
    }
   },
   "source": [
    "# Efficient Data Analysis with the IPython Notebook"
   ]
  },
  {
   "cell_type": "markdown",
   "metadata": {
    "slideshow": {
     "slide_type": "-"
    }
   },
   "source": [
    "<img src='data_overview.png'></img>"
   ]
  },
  {
   "cell_type": "markdown",
   "metadata": {
    "slideshow": {
     "slide_type": "slide"
    }
   },
   "source": [
    "## Objectives"
   ]
  },
  {
   "cell_type": "markdown",
   "metadata": {},
   "source": [
    "- Become familiar with the **IPython Notebook**.\n",
    "- Introduce the IPython **landscape**.\n",
    "- Getting started with **exploratory data analysis** in Python\n",
    "- Conducting reproducible data analyis and computing experiments\n",
    "\n",
    "- How do you currently:\n",
    "    * wrangle data?\n",
    "    * visualize results?\n",
    "    * Analysis: machine learning, stats\n",
    "    * Parallel computing\n",
    "    * Big data"
   ]
  },
  {
   "cell_type": "markdown",
   "metadata": {
    "slideshow": {
     "slide_type": "slide"
    }
   },
   "source": [
    "## What is Python?"
   ]
  },
  {
   "cell_type": "markdown",
   "metadata": {},
   "source": [
    "<blockquote>\n",
    "<p>\n",
    "Python is a general-purpose programming language that blends procedural, functional, and object-oriented paradigms\n",
    "<p>\n",
    "Mark Lutz, <a href=\"http://www.amazon.com/Learning-Python-Edition-Mark-Lutz/dp/1449355730\">Learning Python</a>\n",
    "</blockquote>"
   ]
  },
  {
   "cell_type": "markdown",
   "metadata": {
    "slideshow": {
     "slide_type": "subslide"
    }
   },
   "source": [
    "* Simple, clean syntax\n",
    "* Easy to learn\n",
    "* Interpreted\n",
    "* Strong, dynamically typed\n",
    "* Runs everywhere: Linux, Mac, and Windows\n",
    "* [Free](http://www.fsf.org/) and open\n",
    "* Expressive: do more with fewer lines of code\n",
    "* Lean: **modules**\n",
    "* Options: **Procedural**, **object-oriented**, and **functional**."
   ]
  },
  {
   "cell_type": "markdown",
   "metadata": {
    "slideshow": {
     "slide_type": "subslide"
    }
   },
   "source": [
    "### Abstractions\n",
    "\n",
    "- Python provides high-level abstraction\n",
    "- Performance can be on par with compiled code if right approach is used"
   ]
  },
  {
   "cell_type": "markdown",
   "metadata": {},
   "source": [
    "<img src=\"https://s3.amazonaws.com/research_computing_tutorials/matrix_multiply_compare.png\" style=\"margin:5px auto; height:400px; display:block;\">"
   ]
  },
  {
   "cell_type": "markdown",
   "metadata": {
    "slideshow": {
     "slide_type": "slide"
    }
   },
   "source": [
    "## IPython and the IPython Notebook\n",
    "\n",
    "## IPython\n",
    "\n",
    "- Platform for interactive computing\n",
    "- Shell or browser-based notbook\n",
    "- Project Jupyter\n",
    "   - Language independent notebook\n",
    "   - Can be used with R, Julia, bash ..."
   ]
  },
  {
   "cell_type": "markdown",
   "metadata": {
    "slideshow": {
     "slide_type": "slide"
    }
   },
   "source": [
    "### IPython Notebook\n",
    "\n",
    "http://blog.fperez.org/2012/01/ipython-notebook-historical.html\n",
    "\n",
    "Interactive web-based computing, data analysis, and documentation.\n",
    "\n",
    "- One document for code and output\n",
    "- Run locally and remote\n",
    "- Document process\n",
    "- Share results"
   ]
  },
  {
   "cell_type": "markdown",
   "metadata": {
    "slideshow": {
     "slide_type": "subslide"
    }
   },
   "source": [
    "<img src='traditional_python.png'>"
   ]
  },
  {
   "cell_type": "markdown",
   "metadata": {
    "slideshow": {
     "slide_type": "slide"
    }
   },
   "source": [
    "<img src='ipython-notebook.png'>"
   ]
  },
  {
   "cell_type": "markdown",
   "metadata": {
    "slideshow": {
     "slide_type": "slide"
    }
   },
   "source": [
    "### Integrate code and text\n",
    "\n",
    "- Data structure ouput\n",
    "- Inline plots\n",
    "- Conversation sytle programming ([Literate programming](http://en.wikipedia.org/wiki/Literate_programming))\n",
    "- Telling a data story\n",
    "\n",
    "\n",
    "- Great for *iterative* programming.\n",
    "    - Data analysis\n",
    "    - Quick scripts\n",
    "    - Prototyping"
   ]
  },
  {
   "cell_type": "markdown",
   "metadata": {
    "slideshow": {
     "slide_type": "slide"
    }
   },
   "source": [
    "### Locally and Remote\n",
    "\n",
    "- Run locally\n",
    "- Connect to the cloud (e.g [AWS](http://aws.amazon.com/))\n",
    "- Connect to supercomputer (e.g. XSEDE Resource)\n",
    "- Add compute power:\n",
    "    - [mpi4py](http://mpi4py.scipy.org/)\n",
    "    - [IPython Parallel](http://ipython.org/ipython-doc/dev/parallel/)\n",
    "    - [spark](http://spark.incubator.apache.org/) big distributed data\n",
    "    - [Numbapro](http://docs.continuum.io/numbapro/) GPU\n",
    "    - ..."
   ]
  },
  {
   "cell_type": "markdown",
   "metadata": {
    "slideshow": {
     "slide_type": "slide"
    }
   },
   "source": [
    "### Documentation and Sharing\n",
    "\n",
    "<img src='ipython-notebook-sharing.png'>"
   ]
  },
  {
   "cell_type": "markdown",
   "metadata": {
    "slideshow": {
     "slide_type": "slide"
    }
   },
   "source": [
    "### Keyboard Shortcuts\n",
    "\n",
    "<img src='ipython-notebook-keyboard.png'>"
   ]
  },
  {
   "cell_type": "markdown",
   "metadata": {
    "slideshow": {
     "slide_type": "slide"
    }
   },
   "source": [
    "### `Markdown` and `Latex`\n",
    "\n",
    "- `Markdown`\n",
    "- Latex $y = \\sqrt{a + b}$"
   ]
  },
  {
   "cell_type": "markdown",
   "metadata": {},
   "source": [
    "### Images\n",
    "\n",
    "`<img src='https://s3.amazonaws.com/research_computing_tutorials/monty-python.png' width=\"300\">`\n",
    "\n",
    "This is an image:\n",
    "<img src='https://s3.amazonaws.com/research_computing_tutorials/monty-python.png' width=\"300\">"
   ]
  },
  {
   "cell_type": "markdown",
   "metadata": {
    "slideshow": {
     "slide_type": "slide"
    }
   },
   "source": [
    "### Embeded Plots"
   ]
  },
  {
   "cell_type": "code",
   "execution_count": 2,
   "metadata": {
    "collapsed": false
   },
   "outputs": [
    {
     "name": "stdout",
     "output_type": "stream",
     "text": [
      "[-0.23993664  0.03981475  0.34930532 ..., -1.13620639  0.38384592\n",
      " -1.39388613]\n"
     ]
    }
   ],
   "source": [
    "%matplotlib inline\n",
    "import matplotlib.pyplot as plt\n",
    "import numpy as np\n",
    "x = np.random.randn(10000)\n",
    "print(x)"
   ]
  },
  {
   "cell_type": "markdown",
   "metadata": {
    "slideshow": {
     "slide_type": "subslide"
    }
   },
   "source": [
    "What does $x$ look like?"
   ]
  },
  {
   "cell_type": "code",
   "execution_count": 3,
   "metadata": {
    "collapsed": false
   },
   "outputs": [
    {
     "data": {
      "text/plain": [
       "array([-0.23993664,  0.03981475,  0.34930532, ..., -1.13620639,\n",
       "        0.38384592, -1.39388613])"
      ]
     },
     "execution_count": 3,
     "metadata": {},
     "output_type": "execute_result"
    }
   ],
   "source": [
    "x"
   ]
  },
  {
   "cell_type": "markdown",
   "metadata": {
    "slideshow": {
     "slide_type": "subslide"
    }
   },
   "source": [
    "#### Histogram of x"
   ]
  },
  {
   "cell_type": "code",
   "execution_count": 5,
   "metadata": {
    "collapsed": false
   },
   "outputs": [
    {
     "data": {
      "image/png": "[encoded data removed]",
      "text/plain": [
       "<matplotlib.figure.Figure at 0x104039b10>"
      ]
     },
     "metadata": {},
     "output_type": "display_data"
    }
   ],
   "source": [
    "plt.hist(x, bins=50)\n",
    "plt.show()"
   ]
  },
  {
   "cell_type": "markdown",
   "metadata": {
    "slideshow": {
     "slide_type": "slide"
    }
   },
   "source": [
    "### Customizable"
   ]
  },
  {
   "cell_type": "markdown",
   "metadata": {},
   "source": [
    "- Custom `CSS`\n",
    "- Custom `javascript` libraries\n",
    "- Create your own output format.\n",
    "- Tools and workflow"
   ]
  },
  {
   "cell_type": "markdown",
   "metadata": {
    "slideshow": {
     "slide_type": "slide"
    }
   },
   "source": [
    "### Magic Commands"
   ]
  },
  {
   "cell_type": "markdown",
   "metadata": {},
   "source": [
    "- Built-in useful functions\n",
    "- `%` line commands\n",
    "- `%%` cell commands"
   ]
  },
  {
   "cell_type": "code",
   "execution_count": 5,
   "metadata": {
    "collapsed": false
   },
   "outputs": [
    {
     "data": {
      "application/json": {
       "cell": {
        "!": "OSMagics",
        "HTML": "Other",
        "SVG": "Other",
        "bash": "Other",
        "capture": "ExecutionMagics",
        "debug": "ExecutionMagics",
        "file": "Other",
        "html": "DisplayMagics",
        "javascript": "DisplayMagics",
        "latex": "DisplayMagics",
        "perl": "Other",
        "prun": "ExecutionMagics",
        "pypy": "Other",
        "python": "Other",
        "python2": "Other",
        "python3": "Other",
        "ruby": "Other",
        "script": "ScriptMagics",
        "sh": "Other",
        "svg": "DisplayMagics",
        "sx": "OSMagics",
        "system": "OSMagics",
        "time": "ExecutionMagics",
        "timeit": "ExecutionMagics",
        "writefile": "OSMagics"
       },
       "line": {
        "alias": "OSMagics",
        "alias_magic": "BasicMagics",
        "autocall": "AutoMagics",
        "automagic": "AutoMagics",
        "autosave": "KernelMagics",
        "bookmark": "OSMagics",
        "cat": "Other",
        "cd": "OSMagics",
        "clear": "KernelMagics",
        "colors": "BasicMagics",
        "config": "ConfigMagics",
        "connect_info": "KernelMagics",
        "cp": "Other",
        "debug": "ExecutionMagics",
        "dhist": "OSMagics",
        "dirs": "OSMagics",
        "doctest_mode": "BasicMagics",
        "ed": "Other",
        "edit": "KernelMagics",
        "env": "OSMagics",
        "gui": "BasicMagics",
        "hist": "Other",
        "history": "HistoryMagics",
        "install_default_config": "DeprecatedMagics",
        "install_ext": "ExtensionMagics",
        "install_profiles": "DeprecatedMagics",
        "killbgscripts": "ScriptMagics",
        "ldir": "Other",
        "less": "KernelMagics",
        "lf": "Other",
        "lk": "Other",
        "ll": "Other",
        "load": "CodeMagics",
        "load_ext": "ExtensionMagics",
        "loadpy": "CodeMagics",
        "logoff": "LoggingMagics",
        "logon": "LoggingMagics",
        "logstart": "LoggingMagics",
        "logstate": "LoggingMagics",
        "logstop": "LoggingMagics",
        "ls": "Other",
        "lsmagic": "BasicMagics",
        "lx": "Other",
        "macro": "ExecutionMagics",
        "magic": "BasicMagics",
        "man": "KernelMagics",
        "matplotlib": "PylabMagics",
        "mkdir": "Other",
        "more": "KernelMagics",
        "mv": "Other",
        "notebook": "BasicMagics",
        "page": "BasicMagics",
        "pastebin": "CodeMagics",
        "pdb": "ExecutionMagics",
        "pdef": "NamespaceMagics",
        "pdoc": "NamespaceMagics",
        "pfile": "NamespaceMagics",
        "pinfo": "NamespaceMagics",
        "pinfo2": "NamespaceMagics",
        "popd": "OSMagics",
        "pprint": "BasicMagics",
        "precision": "BasicMagics",
        "profile": "BasicMagics",
        "prun": "ExecutionMagics",
        "psearch": "NamespaceMagics",
        "psource": "NamespaceMagics",
        "pushd": "OSMagics",
        "pwd": "OSMagics",
        "pycat": "OSMagics",
        "pylab": "PylabMagics",
        "qtconsole": "KernelMagics",
        "quickref": "BasicMagics",
        "recall": "HistoryMagics",
        "rehashx": "OSMagics",
        "reload_ext": "ExtensionMagics",
        "rep": "Other",
        "rerun": "HistoryMagics",
        "reset": "NamespaceMagics",
        "reset_selective": "NamespaceMagics",
        "rm": "Other",
        "rmdir": "Other",
        "run": "ExecutionMagics",
        "save": "CodeMagics",
        "sc": "OSMagics",
        "set_env": "OSMagics",
        "store": "StoreMagics",
        "sx": "OSMagics",
        "system": "OSMagics",
        "tb": "ExecutionMagics",
        "time": "ExecutionMagics",
        "timeit": "ExecutionMagics",
        "unalias": "OSMagics",
        "unload_ext": "ExtensionMagics",
        "who": "NamespaceMagics",
        "who_ls": "NamespaceMagics",
        "whos": "NamespaceMagics",
        "xdel": "NamespaceMagics",
        "xmode": "BasicMagics"
       }
      },
      "text/plain": [
       "Available line magics:\n",
       "%alias  %alias_magic  %autocall  %automagic  %autosave  %bookmark  %cat  %cd  %clear  %colors  %config  %connect_info  %cp  %debug  %dhist  %dirs  %doctest_mode  %ed  %edit  %env  %gui  %hist  %history  %install_default_config  %install_ext  %install_profiles  %killbgscripts  %ldir  %less  %lf  %lk  %ll  %load  %load_ext  %loadpy  %logoff  %logon  %logstart  %logstate  %logstop  %ls  %lsmagic  %lx  %macro  %magic  %man  %matplotlib  %mkdir  %more  %mv  %notebook  %page  %pastebin  %pdb  %pdef  %pdoc  %pfile  %pinfo  %pinfo2  %popd  %pprint  %precision  %profile  %prun  %psearch  %psource  %pushd  %pwd  %pycat  %pylab  %qtconsole  %quickref  %recall  %rehashx  %reload_ext  %rep  %rerun  %reset  %reset_selective  %rm  %rmdir  %run  %save  %sc  %set_env  %store  %sx  %system  %tb  %time  %timeit  %unalias  %unload_ext  %who  %who_ls  %whos  %xdel  %xmode\n",
       "\n",
       "Available cell magics:\n",
       "%%!  %%HTML  %%SVG  %%bash  %%capture  %%debug  %%file  %%html  %%javascript  %%latex  %%perl  %%prun  %%pypy  %%python  %%python2  %%python3  %%ruby  %%script  %%sh  %%svg  %%sx  %%system  %%time  %%timeit  %%writefile\n",
       "\n",
       "Automagic is ON, % prefix IS NOT needed for line magics."
      ]
     },
     "execution_count": 5,
     "metadata": {},
     "output_type": "execute_result"
    }
   ],
   "source": [
    "%lsmagic"
   ]
  },
  {
   "cell_type": "code",
   "execution_count": 6,
   "metadata": {
    "collapsed": false
   },
   "outputs": [
    {
     "name": "stdout",
     "output_type": "stream",
     "text": [
      "100 loops, best of 3: 3.6 ms per loop\n"
     ]
    }
   ],
   "source": [
    "%timeit y = np.random.randn(100000)"
   ]
  },
  {
   "cell_type": "markdown",
   "metadata": {
    "slideshow": {
     "slide_type": "slide"
    }
   },
   "source": [
    "### Other Languages: Bash"
   ]
  },
  {
   "cell_type": "code",
   "execution_count": null,
   "metadata": {
    "collapsed": false
   },
   "outputs": [],
   "source": [
    "%%bash\n",
    "ls -l"
   ]
  },
  {
   "cell_type": "code",
   "execution_count": null,
   "metadata": {
    "collapsed": false
   },
   "outputs": [],
   "source": [
    "files = !ls # But glob is a better way\n",
    "print files[:5]\n"
   ]
  },
  {
   "cell_type": "markdown",
   "metadata": {
    "slideshow": {
     "slide_type": "slide"
    }
   },
   "source": [
    "### Keep it all together"
   ]
  },
  {
   "cell_type": "code",
   "execution_count": null,
   "metadata": {
    "collapsed": false
   },
   "outputs": [],
   "source": [
    "%%writefile example.cpp\n",
    "#include <iostream>\n",
    "\n",
    "int main(){\n",
    "    std::cout << \"hello from c++\" << std::endl;\n",
    "}"
   ]
  },
  {
   "cell_type": "code",
   "execution_count": null,
   "metadata": {
    "collapsed": false
   },
   "outputs": [],
   "source": [
    "%%bash\n",
    "g++ example.cpp -o example\n",
    "./example"
   ]
  },
  {
   "cell_type": "markdown",
   "metadata": {
    "slideshow": {
     "slide_type": "slide"
    }
   },
   "source": [
    "## NBconvert examples"
   ]
  },
  {
   "cell_type": "markdown",
   "metadata": {},
   "source": [
    "- HTML\n",
    "- PDF (print)\n",
    "- Slides\n",
    "- Dynamic Slides\n",
    "- ReStructured Text ([sphinx](http://sphinx-doc.org/))"
   ]
  },
  {
   "cell_type": "markdown",
   "metadata": {},
   "source": [
    "## Getting Started with Exploratory Data Analysis\n",
    "\n",
    "3 important Python packages\n",
    "1. NumPy\n",
    "2. Pandas\n",
    "3. Matplotlib"
   ]
  },
  {
   "cell_type": "code",
   "execution_count": 2,
   "metadata": {
    "collapsed": true
   },
   "outputs": [],
   "source": [
    "import os\n",
    "import numpy as np\n",
    "import pandas as pd\n",
    "import matplotlib.pyplot as plt\n",
    "%matplotlib inline"
   ]
  },
  {
   "cell_type": "code",
   "execution_count": 4,
   "metadata": {
    "collapsed": false
   },
   "outputs": [
    {
     "name": "stdout",
     "output_type": "stream",
     "text": [
      "Walrus,DateTimeUTC,Xcoord,Ycoord,Behav,Longitude,Latitude\r",
      "\r\n",
      "271,5/31/2008 19:25,\"95,616.95\",\"-528,324.60\",1.009,-167.9560949,65.24871506\r",
      "\r\n",
      "271,6/1/2008 3:24,\"84,741.71\",\"-511,653.75\",1.0005,-168.1779869,65.40121711\r",
      "\r\n",
      "271,6/1/2008 11:24,\"71,834.45\",\"-491,176.95\",1.00625,-168.4443605,65.58796906\r",
      "\r\n",
      "271,6/1/2008 19:24,\"65,275.80\",\"-478,935.62\",1.02025,-168.5802843,65.6991429\r",
      "\r\n",
      "271,6/2/2008 3:24,\"69,343.24\",\"-473,948.91\",1.00775,-168.4892154,65.74298362\r",
      "\r\n",
      "271,6/2/2008 11:24,\"72,634.53\",\"-457,308.67\",1,-168.4082441,65.89142326\r",
      "\r\n",
      "271,6/2/2008 19:24,\"73,253.86\",\"-425,586.14\",1,-168.3764825,66.17566325\r",
      "\r\n",
      "271,6/3/2008 3:24,\"79,223.97\",\"-401,784.87\",1.00975,-168.2291622,66.38754225\r",
      "\r\n",
      "271,6/3/2008 11:24,\"77,052.23\",\"-382,920.49\",1.20225,-168.2658694,66.5571914\r",
      "\r\n"
     ]
    }
   ],
   "source": [
    "filename = os.path.join('Walrus_Data','Walruses.csv')\n",
    "!head $filename\n"
   ]
  },
  {
   "cell_type": "code",
   "execution_count": 5,
   "metadata": {
    "collapsed": true
   },
   "outputs": [],
   "source": [
    "df = pd.read_csv(filename, index_col='DateTimeUTC', parse_dates=True)"
   ]
  },
  {
   "cell_type": "code",
   "execution_count": 6,
   "metadata": {
    "collapsed": false
   },
   "outputs": [
    {
     "data": {
      "text/html": [
       "<div>\n",
       "<table border=\"1\" class=\"dataframe\">\n",
       "  <thead>\n",
       "    <tr style=\"text-align: right;\">\n",
       "      <th></th>\n",
       "      <th>Walrus</th>\n",
       "      <th>Xcoord</th>\n",
       "      <th>Ycoord</th>\n",
       "      <th>Behav</th>\n",
       "      <th>Longitude</th>\n",
       "      <th>Latitude</th>\n",
       "    </tr>\n",
       "    <tr>\n",
       "      <th>DateTimeUTC</th>\n",
       "      <th></th>\n",
       "      <th></th>\n",
       "      <th></th>\n",
       "      <th></th>\n",
       "      <th></th>\n",
       "      <th></th>\n",
       "    </tr>\n",
       "  </thead>\n",
       "  <tbody>\n",
       "    <tr>\n",
       "      <th>2008-05-31 19:25:00</th>\n",
       "      <td>271</td>\n",
       "      <td>95,616.95</td>\n",
       "      <td>-528,324.60</td>\n",
       "      <td>1.00900</td>\n",
       "      <td>-167.956095</td>\n",
       "      <td>65.248715</td>\n",
       "    </tr>\n",
       "    <tr>\n",
       "      <th>2008-06-01 03:24:00</th>\n",
       "      <td>271</td>\n",
       "      <td>84,741.71</td>\n",
       "      <td>-511,653.75</td>\n",
       "      <td>1.00050</td>\n",
       "      <td>-168.177987</td>\n",
       "      <td>65.401217</td>\n",
       "    </tr>\n",
       "    <tr>\n",
       "      <th>2008-06-01 11:24:00</th>\n",
       "      <td>271</td>\n",
       "      <td>71,834.45</td>\n",
       "      <td>-491,176.95</td>\n",
       "      <td>1.00625</td>\n",
       "      <td>-168.444360</td>\n",
       "      <td>65.587969</td>\n",
       "    </tr>\n",
       "    <tr>\n",
       "      <th>2008-06-01 19:24:00</th>\n",
       "      <td>271</td>\n",
       "      <td>65,275.80</td>\n",
       "      <td>-478,935.62</td>\n",
       "      <td>1.02025</td>\n",
       "      <td>-168.580284</td>\n",
       "      <td>65.699143</td>\n",
       "    </tr>\n",
       "  </tbody>\n",
       "</table>\n",
       "</div>"
      ],
      "text/plain": [
       "                     Walrus     Xcoord       Ycoord    Behav   Longitude  \\\n",
       "DateTimeUTC                                                                \n",
       "2008-05-31 19:25:00     271  95,616.95  -528,324.60  1.00900 -167.956095   \n",
       "2008-06-01 03:24:00     271  84,741.71  -511,653.75  1.00050 -168.177987   \n",
       "2008-06-01 11:24:00     271  71,834.45  -491,176.95  1.00625 -168.444360   \n",
       "2008-06-01 19:24:00     271  65,275.80  -478,935.62  1.02025 -168.580284   \n",
       "\n",
       "                      Latitude  \n",
       "DateTimeUTC                     \n",
       "2008-05-31 19:25:00  65.248715  \n",
       "2008-06-01 03:24:00  65.401217  \n",
       "2008-06-01 11:24:00  65.587969  \n",
       "2008-06-01 19:24:00  65.699143  "
      ]
     },
     "execution_count": 6,
     "metadata": {},
     "output_type": "execute_result"
    }
   ],
   "source": [
    "df.head(4)"
   ]
  },
  {
   "cell_type": "code",
   "execution_count": 10,
   "metadata": {
    "collapsed": false
   },
   "outputs": [
    {
     "data": {
      "text/plain": [
       "<matplotlib.axes._subplots.AxesSubplot at 0x111b53650>"
      ]
     },
     "execution_count": 10,
     "metadata": {},
     "output_type": "execute_result"
    },
    {
     "data": {
      "image/png": "[encoded data removed]",
      "text/plain": [
       "<matplotlib.figure.Figure at 0x111bc7710>"
      ]
     },
     "metadata": {},
     "output_type": "display_data"
    }
   ],
   "source": [
    "df['Behav'].plot(style=['bo'])"
   ]
  },
  {
   "cell_type": "code",
   "execution_count": 11,
   "metadata": {
    "collapsed": true
   },
   "outputs": [],
   "source": [
    "walrus271 = df.ix[df.Walrus == 271]\n",
    "walrus271.head"
   ]
  },
  {
   "cell_type": "code",
   "execution_count": 12,
   "metadata": {
    "collapsed": false
   },
   "outputs": [
    {
     "data": {
      "text/html": [
       "<div>\n",
       "<table border=\"1\" class=\"dataframe\">\n",
       "  <thead>\n",
       "    <tr style=\"text-align: right;\">\n",
       "      <th></th>\n",
       "      <th>Walrus</th>\n",
       "      <th>Xcoord</th>\n",
       "      <th>Ycoord</th>\n",
       "      <th>Behav</th>\n",
       "      <th>Longitude</th>\n",
       "      <th>Latitude</th>\n",
       "    </tr>\n",
       "    <tr>\n",
       "      <th>DateTimeUTC</th>\n",
       "      <th></th>\n",
       "      <th></th>\n",
       "      <th></th>\n",
       "      <th></th>\n",
       "      <th></th>\n",
       "      <th></th>\n",
       "    </tr>\n",
       "  </thead>\n",
       "  <tbody>\n",
       "    <tr>\n",
       "      <th>2008-05-31 19:25:00</th>\n",
       "      <td>271</td>\n",
       "      <td>95,616.95</td>\n",
       "      <td>-528,324.60</td>\n",
       "      <td>1.00900</td>\n",
       "      <td>-167.956095</td>\n",
       "      <td>65.248715</td>\n",
       "    </tr>\n",
       "    <tr>\n",
       "      <th>2008-06-01 03:24:00</th>\n",
       "      <td>271</td>\n",
       "      <td>84,741.71</td>\n",
       "      <td>-511,653.75</td>\n",
       "      <td>1.00050</td>\n",
       "      <td>-168.177987</td>\n",
       "      <td>65.401217</td>\n",
       "    </tr>\n",
       "    <tr>\n",
       "      <th>2008-06-01 11:24:00</th>\n",
       "      <td>271</td>\n",
       "      <td>71,834.45</td>\n",
       "      <td>-491,176.95</td>\n",
       "      <td>1.00625</td>\n",
       "      <td>-168.444360</td>\n",
       "      <td>65.587969</td>\n",
       "    </tr>\n",
       "    <tr>\n",
       "      <th>2008-06-01 19:24:00</th>\n",
       "      <td>271</td>\n",
       "      <td>65,275.80</td>\n",
       "      <td>-478,935.62</td>\n",
       "      <td>1.02025</td>\n",
       "      <td>-168.580284</td>\n",
       "      <td>65.699143</td>\n",
       "    </tr>\n",
       "    <tr>\n",
       "      <th>2008-06-02 03:24:00</th>\n",
       "      <td>271</td>\n",
       "      <td>69,343.24</td>\n",
       "      <td>-473,948.91</td>\n",
       "      <td>1.00775</td>\n",
       "      <td>-168.489215</td>\n",
       "      <td>65.742984</td>\n",
       "    </tr>\n",
       "    <tr>\n",
       "      <th>2008-06-02 11:24:00</th>\n",
       "      <td>271</td>\n",
       "      <td>72,634.53</td>\n",
       "      <td>-457,308.67</td>\n",
       "      <td>1.00000</td>\n",
       "      <td>-168.408244</td>\n",
       "      <td>65.891423</td>\n",
       "    </tr>\n",
       "    <tr>\n",
       "      <th>2008-06-02 19:24:00</th>\n",
       "      <td>271</td>\n",
       "      <td>73,253.86</td>\n",
       "      <td>-425,586.14</td>\n",
       "      <td>1.00000</td>\n",
       "      <td>-168.376483</td>\n",
       "      <td>66.175663</td>\n",
       "    </tr>\n",
       "    <tr>\n",
       "      <th>2008-06-03 03:24:00</th>\n",
       "      <td>271</td>\n",
       "      <td>79,223.97</td>\n",
       "      <td>-401,784.87</td>\n",
       "      <td>1.00975</td>\n",
       "      <td>-168.229162</td>\n",
       "      <td>66.387542</td>\n",
       "    </tr>\n",
       "    <tr>\n",
       "      <th>2008-06-03 11:24:00</th>\n",
       "      <td>271</td>\n",
       "      <td>77,052.23</td>\n",
       "      <td>-382,920.49</td>\n",
       "      <td>1.20225</td>\n",
       "      <td>-168.265869</td>\n",
       "      <td>66.557191</td>\n",
       "    </tr>\n",
       "    <tr>\n",
       "      <th>2008-06-03 19:24:00</th>\n",
       "      <td>271</td>\n",
       "      <td>73,380.11</td>\n",
       "      <td>-379,615.25</td>\n",
       "      <td>1.24225</td>\n",
       "      <td>-168.346486</td>\n",
       "      <td>66.587727</td>\n",
       "    </tr>\n",
       "    <tr>\n",
       "      <th>2008-06-04 03:24:00</th>\n",
       "      <td>271</td>\n",
       "      <td>67,572.75</td>\n",
       "      <td>-380,607.03</td>\n",
       "      <td>1.27250</td>\n",
       "      <td>-168.477841</td>\n",
       "      <td>66.580183</td>\n",
       "    </tr>\n",
       "    <tr>\n",
       "      <th>2008-06-04 11:24:00</th>\n",
       "      <td>271</td>\n",
       "      <td>62,271.16</td>\n",
       "      <td>-375,738.69</td>\n",
       "      <td>1.29050</td>\n",
       "      <td>-168.594732</td>\n",
       "      <td>66.624958</td>\n",
       "    </tr>\n",
       "    <tr>\n",
       "      <th>2008-06-04 19:24:00</th>\n",
       "      <td>271</td>\n",
       "      <td>59,480.60</td>\n",
       "      <td>-370,911.58</td>\n",
       "      <td>1.29425</td>\n",
       "      <td>-168.655318</td>\n",
       "      <td>66.668793</td>\n",
       "    </tr>\n",
       "    <tr>\n",
       "      <th>2008-06-05 03:24:00</th>\n",
       "      <td>271</td>\n",
       "      <td>60,918.11</td>\n",
       "      <td>-367,031.90</td>\n",
       "      <td>1.27575</td>\n",
       "      <td>-168.620875</td>\n",
       "      <td>66.703288</td>\n",
       "    </tr>\n",
       "    <tr>\n",
       "      <th>2008-06-05 11:24:00</th>\n",
       "      <td>271</td>\n",
       "      <td>56,781.80</td>\n",
       "      <td>-361,809.93</td>\n",
       "      <td>1.23975</td>\n",
       "      <td>-168.712026</td>\n",
       "      <td>66.750909</td>\n",
       "    </tr>\n",
       "    <tr>\n",
       "      <th>2008-06-05 19:24:00</th>\n",
       "      <td>271</td>\n",
       "      <td>54,894.44</td>\n",
       "      <td>-353,876.89</td>\n",
       "      <td>1.19500</td>\n",
       "      <td>-168.751190</td>\n",
       "      <td>66.822379</td>\n",
       "    </tr>\n",
       "    <tr>\n",
       "      <th>2008-06-06 03:24:00</th>\n",
       "      <td>271</td>\n",
       "      <td>58,606.00</td>\n",
       "      <td>-345,341.95</td>\n",
       "      <td>1.15650</td>\n",
       "      <td>-168.662579</td>\n",
       "      <td>66.898193</td>\n",
       "    </tr>\n",
       "    <tr>\n",
       "      <th>2008-06-06 11:24:00</th>\n",
       "      <td>271</td>\n",
       "      <td>60,397.06</td>\n",
       "      <td>-339,209.14</td>\n",
       "      <td>1.12825</td>\n",
       "      <td>-168.618590</td>\n",
       "      <td>66.952816</td>\n",
       "    </tr>\n",
       "    <tr>\n",
       "      <th>2008-06-06 19:24:00</th>\n",
       "      <td>271</td>\n",
       "      <td>65,730.69</td>\n",
       "      <td>-336,317.89</td>\n",
       "      <td>1.08300</td>\n",
       "      <td>-168.495035</td>\n",
       "      <td>66.977609</td>\n",
       "    </tr>\n",
       "    <tr>\n",
       "      <th>2008-06-07 03:24:00</th>\n",
       "      <td>271</td>\n",
       "      <td>75,490.71</td>\n",
       "      <td>-331,831.28</td>\n",
       "      <td>1.06975</td>\n",
       "      <td>-168.268801</td>\n",
       "      <td>67.015518</td>\n",
       "    </tr>\n",
       "    <tr>\n",
       "      <th>2008-06-07 11:24:00</th>\n",
       "      <td>271</td>\n",
       "      <td>84,767.05</td>\n",
       "      <td>-325,728.19</td>\n",
       "      <td>1.08175</td>\n",
       "      <td>-168.051790</td>\n",
       "      <td>67.067724</td>\n",
       "    </tr>\n",
       "    <tr>\n",
       "      <th>2008-06-07 19:24:00</th>\n",
       "      <td>271</td>\n",
       "      <td>94,131.49</td>\n",
       "      <td>-326,567.29</td>\n",
       "      <td>1.10825</td>\n",
       "      <td>-167.837409</td>\n",
       "      <td>67.057392</td>\n",
       "    </tr>\n",
       "    <tr>\n",
       "      <th>2008-06-08 03:24:00</th>\n",
       "      <td>271</td>\n",
       "      <td>100,062.89</td>\n",
       "      <td>-327,001.16</td>\n",
       "      <td>1.14575</td>\n",
       "      <td>-167.701634</td>\n",
       "      <td>67.051571</td>\n",
       "    </tr>\n",
       "    <tr>\n",
       "      <th>2008-06-08 11:24:00</th>\n",
       "      <td>271</td>\n",
       "      <td>104,235.79</td>\n",
       "      <td>-331,415.81</td>\n",
       "      <td>1.17400</td>\n",
       "      <td>-167.609804</td>\n",
       "      <td>67.010587</td>\n",
       "    </tr>\n",
       "    <tr>\n",
       "      <th>2008-06-08 19:24:00</th>\n",
       "      <td>271</td>\n",
       "      <td>107,125.22</td>\n",
       "      <td>-337,685.94</td>\n",
       "      <td>1.19150</td>\n",
       "      <td>-167.549318</td>\n",
       "      <td>66.953387</td>\n",
       "    </tr>\n",
       "    <tr>\n",
       "      <th>2008-06-09 03:24:00</th>\n",
       "      <td>271</td>\n",
       "      <td>113,706.33</td>\n",
       "      <td>-345,592.86</td>\n",
       "      <td>1.23800</td>\n",
       "      <td>-167.406526</td>\n",
       "      <td>66.880124</td>\n",
       "    </tr>\n",
       "    <tr>\n",
       "      <th>2008-06-09 11:24:00</th>\n",
       "      <td>271</td>\n",
       "      <td>113,950.33</td>\n",
       "      <td>-346,474.15</td>\n",
       "      <td>1.23900</td>\n",
       "      <td>-167.401812</td>\n",
       "      <td>66.872137</td>\n",
       "    </tr>\n",
       "    <tr>\n",
       "      <th>2008-06-09 19:24:00</th>\n",
       "      <td>271</td>\n",
       "      <td>112,140.24</td>\n",
       "      <td>-339,284.85</td>\n",
       "      <td>1.21900</td>\n",
       "      <td>-167.436238</td>\n",
       "      <td>66.937226</td>\n",
       "    </tr>\n",
       "    <tr>\n",
       "      <th>2008-06-10 03:24:00</th>\n",
       "      <td>271</td>\n",
       "      <td>110,084.20</td>\n",
       "      <td>-327,925.54</td>\n",
       "      <td>1.21400</td>\n",
       "      <td>-167.472568</td>\n",
       "      <td>67.039756</td>\n",
       "    </tr>\n",
       "    <tr>\n",
       "      <th>2008-06-10 11:24:00</th>\n",
       "      <td>271</td>\n",
       "      <td>113,726.37</td>\n",
       "      <td>-324,012.53</td>\n",
       "      <td>1.19200</td>\n",
       "      <td>-167.385244</td>\n",
       "      <td>67.073443</td>\n",
       "    </tr>\n",
       "    <tr>\n",
       "      <th>...</th>\n",
       "      <td>...</td>\n",
       "      <td>...</td>\n",
       "      <td>...</td>\n",
       "      <td>...</td>\n",
       "      <td>...</td>\n",
       "      <td>...</td>\n",
       "    </tr>\n",
       "    <tr>\n",
       "      <th>2008-09-03 11:24:00</th>\n",
       "      <td>271</td>\n",
       "      <td>281,925.44</td>\n",
       "      <td>230,590.48</td>\n",
       "      <td>1.96750</td>\n",
       "      <td>-161.851158</td>\n",
       "      <td>71.896895</td>\n",
       "    </tr>\n",
       "    <tr>\n",
       "      <th>2008-09-03 19:24:00</th>\n",
       "      <td>271</td>\n",
       "      <td>280,818.81</td>\n",
       "      <td>235,283.49</td>\n",
       "      <td>1.95475</td>\n",
       "      <td>-161.864625</td>\n",
       "      <td>71.939884</td>\n",
       "    </tr>\n",
       "    <tr>\n",
       "      <th>2008-09-04 03:24:00</th>\n",
       "      <td>271</td>\n",
       "      <td>283,689.05</td>\n",
       "      <td>237,880.84</td>\n",
       "      <td>1.94850</td>\n",
       "      <td>-161.772311</td>\n",
       "      <td>71.959486</td>\n",
       "    </tr>\n",
       "    <tr>\n",
       "      <th>2008-09-04 11:24:00</th>\n",
       "      <td>271</td>\n",
       "      <td>286,101.53</td>\n",
       "      <td>240,404.43</td>\n",
       "      <td>1.94775</td>\n",
       "      <td>-161.693220</td>\n",
       "      <td>71.978948</td>\n",
       "    </tr>\n",
       "    <tr>\n",
       "      <th>2008-09-04 19:24:00</th>\n",
       "      <td>271</td>\n",
       "      <td>289,247.34</td>\n",
       "      <td>242,981.95</td>\n",
       "      <td>1.95125</td>\n",
       "      <td>-161.592705</td>\n",
       "      <td>71.997951</td>\n",
       "    </tr>\n",
       "    <tr>\n",
       "      <th>2008-09-05 03:24:00</th>\n",
       "      <td>271</td>\n",
       "      <td>289,677.04</td>\n",
       "      <td>240,996.51</td>\n",
       "      <td>1.94425</td>\n",
       "      <td>-161.588352</td>\n",
       "      <td>71.979805</td>\n",
       "    </tr>\n",
       "    <tr>\n",
       "      <th>2008-09-05 11:24:00</th>\n",
       "      <td>271</td>\n",
       "      <td>288,712.49</td>\n",
       "      <td>237,337.46</td>\n",
       "      <td>1.93900</td>\n",
       "      <td>-161.630617</td>\n",
       "      <td>71.948530</td>\n",
       "    </tr>\n",
       "    <tr>\n",
       "      <th>2008-09-05 19:24:00</th>\n",
       "      <td>271</td>\n",
       "      <td>287,392.07</td>\n",
       "      <td>233,553.57</td>\n",
       "      <td>1.93950</td>\n",
       "      <td>-161.683402</td>\n",
       "      <td>71.916574</td>\n",
       "    </tr>\n",
       "    <tr>\n",
       "      <th>2008-09-06 03:24:00</th>\n",
       "      <td>271</td>\n",
       "      <td>286,007.12</td>\n",
       "      <td>229,752.95</td>\n",
       "      <td>1.94350</td>\n",
       "      <td>-161.737913</td>\n",
       "      <td>71.884534</td>\n",
       "    </tr>\n",
       "    <tr>\n",
       "      <th>2008-09-06 11:24:00</th>\n",
       "      <td>271</td>\n",
       "      <td>284,793.53</td>\n",
       "      <td>226,218.20</td>\n",
       "      <td>1.94675</td>\n",
       "      <td>-161.786321</td>\n",
       "      <td>71.854630</td>\n",
       "    </tr>\n",
       "    <tr>\n",
       "      <th>2008-09-06 19:24:00</th>\n",
       "      <td>271</td>\n",
       "      <td>283,347.42</td>\n",
       "      <td>222,411.33</td>\n",
       "      <td>1.95125</td>\n",
       "      <td>-161.842239</td>\n",
       "      <td>71.822578</td>\n",
       "    </tr>\n",
       "    <tr>\n",
       "      <th>2008-09-07 03:24:00</th>\n",
       "      <td>271</td>\n",
       "      <td>281,564.81</td>\n",
       "      <td>224,041.77</td>\n",
       "      <td>1.95600</td>\n",
       "      <td>-161.886692</td>\n",
       "      <td>71.839187</td>\n",
       "    </tr>\n",
       "    <tr>\n",
       "      <th>2008-09-07 11:24:00</th>\n",
       "      <td>271</td>\n",
       "      <td>279,492.99</td>\n",
       "      <td>231,624.48</td>\n",
       "      <td>1.95750</td>\n",
       "      <td>-161.916662</td>\n",
       "      <td>71.908980</td>\n",
       "    </tr>\n",
       "    <tr>\n",
       "      <th>2008-09-07 19:24:00</th>\n",
       "      <td>271</td>\n",
       "      <td>277,825.82</td>\n",
       "      <td>239,561.43</td>\n",
       "      <td>1.96325</td>\n",
       "      <td>-161.933874</td>\n",
       "      <td>71.981434</td>\n",
       "    </tr>\n",
       "    <tr>\n",
       "      <th>2008-09-08 03:24:00</th>\n",
       "      <td>271</td>\n",
       "      <td>278,857.76</td>\n",
       "      <td>246,443.38</td>\n",
       "      <td>1.97425</td>\n",
       "      <td>-161.877587</td>\n",
       "      <td>72.041307</td>\n",
       "    </tr>\n",
       "    <tr>\n",
       "      <th>2008-09-08 11:24:00</th>\n",
       "      <td>271</td>\n",
       "      <td>275,892.95</td>\n",
       "      <td>244,312.79</td>\n",
       "      <td>1.97575</td>\n",
       "      <td>-161.971124</td>\n",
       "      <td>72.025914</td>\n",
       "    </tr>\n",
       "    <tr>\n",
       "      <th>2008-09-08 19:24:00</th>\n",
       "      <td>271</td>\n",
       "      <td>276,533.05</td>\n",
       "      <td>244,880.20</td>\n",
       "      <td>1.97675</td>\n",
       "      <td>-161.950528</td>\n",
       "      <td>72.030195</td>\n",
       "    </tr>\n",
       "    <tr>\n",
       "      <th>2008-09-09 03:24:00</th>\n",
       "      <td>271</td>\n",
       "      <td>274,883.60</td>\n",
       "      <td>243,309.02</td>\n",
       "      <td>1.97550</td>\n",
       "      <td>-162.003998</td>\n",
       "      <td>72.018190</td>\n",
       "    </tr>\n",
       "    <tr>\n",
       "      <th>2008-09-09 11:24:00</th>\n",
       "      <td>271</td>\n",
       "      <td>276,092.79</td>\n",
       "      <td>245,976.65</td>\n",
       "      <td>1.97300</td>\n",
       "      <td>-161.958973</td>\n",
       "      <td>72.040452</td>\n",
       "    </tr>\n",
       "    <tr>\n",
       "      <th>2008-09-09 19:24:00</th>\n",
       "      <td>271</td>\n",
       "      <td>279,904.51</td>\n",
       "      <td>243,511.66</td>\n",
       "      <td>1.96725</td>\n",
       "      <td>-161.858893</td>\n",
       "      <td>72.014027</td>\n",
       "    </tr>\n",
       "    <tr>\n",
       "      <th>2008-09-10 03:24:00</th>\n",
       "      <td>271</td>\n",
       "      <td>281,150.93</td>\n",
       "      <td>242,088.26</td>\n",
       "      <td>1.96425</td>\n",
       "      <td>-161.828640</td>\n",
       "      <td>71.999895</td>\n",
       "    </tr>\n",
       "    <tr>\n",
       "      <th>2008-09-10 11:24:00</th>\n",
       "      <td>271</td>\n",
       "      <td>281,821.73</td>\n",
       "      <td>241,211.85</td>\n",
       "      <td>1.95325</td>\n",
       "      <td>-161.812808</td>\n",
       "      <td>71.991308</td>\n",
       "    </tr>\n",
       "    <tr>\n",
       "      <th>2008-09-10 19:24:00</th>\n",
       "      <td>271</td>\n",
       "      <td>281,588.40</td>\n",
       "      <td>241,788.77</td>\n",
       "      <td>1.93775</td>\n",
       "      <td>-161.817250</td>\n",
       "      <td>71.996710</td>\n",
       "    </tr>\n",
       "    <tr>\n",
       "      <th>2008-09-11 03:24:00</th>\n",
       "      <td>271</td>\n",
       "      <td>285,957.32</td>\n",
       "      <td>237,112.16</td>\n",
       "      <td>1.91600</td>\n",
       "      <td>-161.710377</td>\n",
       "      <td>71.949907</td>\n",
       "    </tr>\n",
       "    <tr>\n",
       "      <th>2008-09-11 11:24:00</th>\n",
       "      <td>271</td>\n",
       "      <td>288,735.31</td>\n",
       "      <td>228,631.92</td>\n",
       "      <td>1.89375</td>\n",
       "      <td>-161.664523</td>\n",
       "      <td>71.871254</td>\n",
       "    </tr>\n",
       "    <tr>\n",
       "      <th>2008-09-11 19:24:00</th>\n",
       "      <td>271</td>\n",
       "      <td>284,698.03</td>\n",
       "      <td>221,033.84</td>\n",
       "      <td>1.87950</td>\n",
       "      <td>-161.809161</td>\n",
       "      <td>71.808726</td>\n",
       "    </tr>\n",
       "    <tr>\n",
       "      <th>2008-09-12 03:24:00</th>\n",
       "      <td>271</td>\n",
       "      <td>283,752.85</td>\n",
       "      <td>214,842.94</td>\n",
       "      <td>1.87475</td>\n",
       "      <td>-161.859841</td>\n",
       "      <td>71.754901</td>\n",
       "    </tr>\n",
       "    <tr>\n",
       "      <th>2008-09-12 11:24:00</th>\n",
       "      <td>271</td>\n",
       "      <td>283,162.11</td>\n",
       "      <td>210,072.59</td>\n",
       "      <td>1.86200</td>\n",
       "      <td>-161.894802</td>\n",
       "      <td>71.713254</td>\n",
       "    </tr>\n",
       "    <tr>\n",
       "      <th>2008-09-12 19:24:00</th>\n",
       "      <td>271</td>\n",
       "      <td>283,300.59</td>\n",
       "      <td>208,058.59</td>\n",
       "      <td>1.84550</td>\n",
       "      <td>-161.898555</td>\n",
       "      <td>71.695207</td>\n",
       "    </tr>\n",
       "    <tr>\n",
       "      <th>2008-09-13 03:24:00</th>\n",
       "      <td>271</td>\n",
       "      <td>283,764.61</td>\n",
       "      <td>208,049.09</td>\n",
       "      <td>1.82650</td>\n",
       "      <td>-161.885479</td>\n",
       "      <td>71.694569</td>\n",
       "    </tr>\n",
       "  </tbody>\n",
       "</table>\n",
       "<p>314 rows × 6 columns</p>\n",
       "</div>"
      ],
      "text/plain": [
       "                     Walrus      Xcoord       Ycoord    Behav   Longitude  \\\n",
       "DateTimeUTC                                                                 \n",
       "2008-05-31 19:25:00     271   95,616.95  -528,324.60  1.00900 -167.956095   \n",
       "2008-06-01 03:24:00     271   84,741.71  -511,653.75  1.00050 -168.177987   \n",
       "2008-06-01 11:24:00     271   71,834.45  -491,176.95  1.00625 -168.444360   \n",
       "2008-06-01 19:24:00     271   65,275.80  -478,935.62  1.02025 -168.580284   \n",
       "2008-06-02 03:24:00     271   69,343.24  -473,948.91  1.00775 -168.489215   \n",
       "2008-06-02 11:24:00     271   72,634.53  -457,308.67  1.00000 -168.408244   \n",
       "2008-06-02 19:24:00     271   73,253.86  -425,586.14  1.00000 -168.376483   \n",
       "2008-06-03 03:24:00     271   79,223.97  -401,784.87  1.00975 -168.229162   \n",
       "2008-06-03 11:24:00     271   77,052.23  -382,920.49  1.20225 -168.265869   \n",
       "2008-06-03 19:24:00     271   73,380.11  -379,615.25  1.24225 -168.346486   \n",
       "2008-06-04 03:24:00     271   67,572.75  -380,607.03  1.27250 -168.477841   \n",
       "2008-06-04 11:24:00     271   62,271.16  -375,738.69  1.29050 -168.594732   \n",
       "2008-06-04 19:24:00     271   59,480.60  -370,911.58  1.29425 -168.655318   \n",
       "2008-06-05 03:24:00     271   60,918.11  -367,031.90  1.27575 -168.620875   \n",
       "2008-06-05 11:24:00     271   56,781.80  -361,809.93  1.23975 -168.712026   \n",
       "2008-06-05 19:24:00     271   54,894.44  -353,876.89  1.19500 -168.751190   \n",
       "2008-06-06 03:24:00     271   58,606.00  -345,341.95  1.15650 -168.662579   \n",
       "2008-06-06 11:24:00     271   60,397.06  -339,209.14  1.12825 -168.618590   \n",
       "2008-06-06 19:24:00     271   65,730.69  -336,317.89  1.08300 -168.495035   \n",
       "2008-06-07 03:24:00     271   75,490.71  -331,831.28  1.06975 -168.268801   \n",
       "2008-06-07 11:24:00     271   84,767.05  -325,728.19  1.08175 -168.051790   \n",
       "2008-06-07 19:24:00     271   94,131.49  -326,567.29  1.10825 -167.837409   \n",
       "2008-06-08 03:24:00     271  100,062.89  -327,001.16  1.14575 -167.701634   \n",
       "2008-06-08 11:24:00     271  104,235.79  -331,415.81  1.17400 -167.609804   \n",
       "2008-06-08 19:24:00     271  107,125.22  -337,685.94  1.19150 -167.549318   \n",
       "2008-06-09 03:24:00     271  113,706.33  -345,592.86  1.23800 -167.406526   \n",
       "2008-06-09 11:24:00     271  113,950.33  -346,474.15  1.23900 -167.401812   \n",
       "2008-06-09 19:24:00     271  112,140.24  -339,284.85  1.21900 -167.436238   \n",
       "2008-06-10 03:24:00     271  110,084.20  -327,925.54  1.21400 -167.472568   \n",
       "2008-06-10 11:24:00     271  113,726.37  -324,012.53  1.19200 -167.385244   \n",
       "...                     ...         ...          ...      ...         ...   \n",
       "2008-09-03 11:24:00     271  281,925.44   230,590.48  1.96750 -161.851158   \n",
       "2008-09-03 19:24:00     271  280,818.81   235,283.49  1.95475 -161.864625   \n",
       "2008-09-04 03:24:00     271  283,689.05   237,880.84  1.94850 -161.772311   \n",
       "2008-09-04 11:24:00     271  286,101.53   240,404.43  1.94775 -161.693220   \n",
       "2008-09-04 19:24:00     271  289,247.34   242,981.95  1.95125 -161.592705   \n",
       "2008-09-05 03:24:00     271  289,677.04   240,996.51  1.94425 -161.588352   \n",
       "2008-09-05 11:24:00     271  288,712.49   237,337.46  1.93900 -161.630617   \n",
       "2008-09-05 19:24:00     271  287,392.07   233,553.57  1.93950 -161.683402   \n",
       "2008-09-06 03:24:00     271  286,007.12   229,752.95  1.94350 -161.737913   \n",
       "2008-09-06 11:24:00     271  284,793.53   226,218.20  1.94675 -161.786321   \n",
       "2008-09-06 19:24:00     271  283,347.42   222,411.33  1.95125 -161.842239   \n",
       "2008-09-07 03:24:00     271  281,564.81   224,041.77  1.95600 -161.886692   \n",
       "2008-09-07 11:24:00     271  279,492.99   231,624.48  1.95750 -161.916662   \n",
       "2008-09-07 19:24:00     271  277,825.82   239,561.43  1.96325 -161.933874   \n",
       "2008-09-08 03:24:00     271  278,857.76   246,443.38  1.97425 -161.877587   \n",
       "2008-09-08 11:24:00     271  275,892.95   244,312.79  1.97575 -161.971124   \n",
       "2008-09-08 19:24:00     271  276,533.05   244,880.20  1.97675 -161.950528   \n",
       "2008-09-09 03:24:00     271  274,883.60   243,309.02  1.97550 -162.003998   \n",
       "2008-09-09 11:24:00     271  276,092.79   245,976.65  1.97300 -161.958973   \n",
       "2008-09-09 19:24:00     271  279,904.51   243,511.66  1.96725 -161.858893   \n",
       "2008-09-10 03:24:00     271  281,150.93   242,088.26  1.96425 -161.828640   \n",
       "2008-09-10 11:24:00     271  281,821.73   241,211.85  1.95325 -161.812808   \n",
       "2008-09-10 19:24:00     271  281,588.40   241,788.77  1.93775 -161.817250   \n",
       "2008-09-11 03:24:00     271  285,957.32   237,112.16  1.91600 -161.710377   \n",
       "2008-09-11 11:24:00     271  288,735.31   228,631.92  1.89375 -161.664523   \n",
       "2008-09-11 19:24:00     271  284,698.03   221,033.84  1.87950 -161.809161   \n",
       "2008-09-12 03:24:00     271  283,752.85   214,842.94  1.87475 -161.859841   \n",
       "2008-09-12 11:24:00     271  283,162.11   210,072.59  1.86200 -161.894802   \n",
       "2008-09-12 19:24:00     271  283,300.59   208,058.59  1.84550 -161.898555   \n",
       "2008-09-13 03:24:00     271  283,764.61   208,049.09  1.82650 -161.885479   \n",
       "\n",
       "                      Latitude  \n",
       "DateTimeUTC                     \n",
       "2008-05-31 19:25:00  65.248715  \n",
       "2008-06-01 03:24:00  65.401217  \n",
       "2008-06-01 11:24:00  65.587969  \n",
       "2008-06-01 19:24:00  65.699143  \n",
       "2008-06-02 03:24:00  65.742984  \n",
       "2008-06-02 11:24:00  65.891423  \n",
       "2008-06-02 19:24:00  66.175663  \n",
       "2008-06-03 03:24:00  66.387542  \n",
       "2008-06-03 11:24:00  66.557191  \n",
       "2008-06-03 19:24:00  66.587727  \n",
       "2008-06-04 03:24:00  66.580183  \n",
       "2008-06-04 11:24:00  66.624958  \n",
       "2008-06-04 19:24:00  66.668793  \n",
       "2008-06-05 03:24:00  66.703288  \n",
       "2008-06-05 11:24:00  66.750909  \n",
       "2008-06-05 19:24:00  66.822379  \n",
       "2008-06-06 03:24:00  66.898193  \n",
       "2008-06-06 11:24:00  66.952816  \n",
       "2008-06-06 19:24:00  66.977609  \n",
       "2008-06-07 03:24:00  67.015518  \n",
       "2008-06-07 11:24:00  67.067724  \n",
       "2008-06-07 19:24:00  67.057392  \n",
       "2008-06-08 03:24:00  67.051571  \n",
       "2008-06-08 11:24:00  67.010587  \n",
       "2008-06-08 19:24:00  66.953387  \n",
       "2008-06-09 03:24:00  66.880124  \n",
       "2008-06-09 11:24:00  66.872137  \n",
       "2008-06-09 19:24:00  66.937226  \n",
       "2008-06-10 03:24:00  67.039756  \n",
       "2008-06-10 11:24:00  67.073443  \n",
       "...                        ...  \n",
       "2008-09-03 11:24:00  71.896895  \n",
       "2008-09-03 19:24:00  71.939884  \n",
       "2008-09-04 03:24:00  71.959486  \n",
       "2008-09-04 11:24:00  71.978948  \n",
       "2008-09-04 19:24:00  71.997951  \n",
       "2008-09-05 03:24:00  71.979805  \n",
       "2008-09-05 11:24:00  71.948530  \n",
       "2008-09-05 19:24:00  71.916574  \n",
       "2008-09-06 03:24:00  71.884534  \n",
       "2008-09-06 11:24:00  71.854630  \n",
       "2008-09-06 19:24:00  71.822578  \n",
       "2008-09-07 03:24:00  71.839187  \n",
       "2008-09-07 11:24:00  71.908980  \n",
       "2008-09-07 19:24:00  71.981434  \n",
       "2008-09-08 03:24:00  72.041307  \n",
       "2008-09-08 11:24:00  72.025914  \n",
       "2008-09-08 19:24:00  72.030195  \n",
       "2008-09-09 03:24:00  72.018190  \n",
       "2008-09-09 11:24:00  72.040452  \n",
       "2008-09-09 19:24:00  72.014027  \n",
       "2008-09-10 03:24:00  71.999895  \n",
       "2008-09-10 11:24:00  71.991308  \n",
       "2008-09-10 19:24:00  71.996710  \n",
       "2008-09-11 03:24:00  71.949907  \n",
       "2008-09-11 11:24:00  71.871254  \n",
       "2008-09-11 19:24:00  71.808726  \n",
       "2008-09-12 03:24:00  71.754901  \n",
       "2008-09-12 11:24:00  71.713254  \n",
       "2008-09-12 19:24:00  71.695207  \n",
       "2008-09-13 03:24:00  71.694569  \n",
       "\n",
       "[314 rows x 6 columns]"
      ]
     },
     "execution_count": 12,
     "metadata": {},
     "output_type": "execute_result"
    }
   ],
   "source": [
    "walrus271"
   ]
  },
  {
   "cell_type": "code",
   "execution_count": null,
   "metadata": {
    "collapsed": true
   },
   "outputs": [],
   "source": []
  }
 ],
 "metadata": {
  "celltoolbar": "Slideshow",
  "kernelspec": {
   "display_name": "Python 2",
   "language": "python",
   "name": "python2"
  },
  "language_info": {
   "codemirror_mode": {
    "name": "ipython",
    "version": 2
   },
   "file_extension": ".py",
   "mimetype": "text/x-python",
   "name": "python",
   "nbconvert_exporter": "python",
   "pygments_lexer": "ipython2",
   "version": "2.7.10"
  }
 },
 "nbformat": 4,
 "nbformat_minor": 0
}
